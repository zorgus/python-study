{
 "cells": [
  {
   "cell_type": "code",
   "execution_count": 1,
   "metadata": {},
   "outputs": [],
   "source": [
    "### File write\n",
    "\n",
    "def fileWrite():\n",
    "    try:\n",
    "        fp = open('data/test.txt', 'w')   # w, r, a   |   t, b\n",
    "        print(fp.tell())\n",
    "        fp.write('abcdefghijkl')\n",
    "        print(fp.tell())\n",
    "        fp.write('hello')\n",
    "        print(fp.tell())\n",
    "        fp.close()\n",
    "    except Exception as err:\n",
    "        print('에러', err)\n"
   ]
  },
  {
   "cell_type": "code",
   "execution_count": 2,
   "metadata": {},
   "outputs": [],
   "source": [
    "### File read\n",
    "\n",
    "def fileRead():\n",
    "    try:\n",
    "        fp = open('data/test.txt', 'r')\n",
    "        rd = fp.read()\n",
    "        fp.close()\n",
    "        print(rd)\n",
    "    except Exception as err:\n",
    "        print('에러', err)\n"
   ]
  },
  {
   "cell_type": "code",
   "execution_count": 3,
   "metadata": {},
   "outputs": [],
   "source": [
    "def fileRead2():\n",
    "    try:\n",
    "        fp = open('data/test.txt', 'r')\n",
    "        rd = fp.read(3)\n",
    "        print(rd)\n",
    "        rd = fp.read(3)\n",
    "        print(rd)\n",
    "        fp.close()\n",
    "    except Exception as err:\n",
    "        print('에러', err)"
   ]
  },
  {
   "cell_type": "code",
   "execution_count": 4,
   "metadata": {},
   "outputs": [],
   "source": [
    "### ftell, fseek\n",
    "\n",
    "def fileWrite2():\n",
    "    try:\n",
    "        fp = open('data/test.txt', 'w')   # w, r, a   |   t, b\n",
    "        print(fp.tell())\n",
    "        fp.write('abcdefghijkl')\n",
    "        fp.seek(3)\n",
    "        print(fp.tell())\n",
    "        fp.write('hello')\n",
    "        print(fp.tell())\n",
    "        fp.close()\n",
    "    except Exception as err:\n",
    "        print('에러', err)\n"
   ]
  },
  {
   "cell_type": "code",
   "execution_count": 5,
   "metadata": {
    "scrolled": true
   },
   "outputs": [
    {
     "name": "stdout",
     "output_type": "stream",
     "text": [
      "0\n",
      "12\n",
      "17\n",
      "abcdefghijklhello\n",
      "0\n",
      "3\n",
      "8\n",
      "abchelloijkl\n",
      "0\n",
      "12\n",
      "17\n",
      "abc\n",
      "def\n"
     ]
    }
   ],
   "source": [
    "fileWrite()\n",
    "fileRead()\n",
    "fileWrite2()\n",
    "fileRead()\n",
    "fileWrite()\n",
    "fileRead2()"
   ]
  },
  {
   "cell_type": "code",
   "execution_count": 6,
   "metadata": {},
   "outputs": [
    {
     "name": "stdout",
     "output_type": "stream",
     "text": [
      "abc\n",
      "\n",
      "def\n",
      "\n",
      "abc\n",
      "\n",
      "def\n",
      "\n",
      "ghi\n",
      "\n",
      "jkl\n",
      "\n",
      "['abc\\n', 'def\\n', 'ghi\\n', 'jkl\\n']\n",
      "['abc', 'def', 'ghi', 'jkl']\n"
     ]
    }
   ],
   "source": [
    "### read line\n",
    "\n",
    "def fileWrite3():\n",
    "    fp = open('data/test.txt', 'w')   # w, r, a   |   t, b\n",
    "    fp.write('abc\\ndef\\nghi\\njkl\\n')\n",
    "    fp.close()\n",
    "def fileRead3():\n",
    "    fp = open('data/test.txt', 'r')\n",
    "    rd = fp.readline()\n",
    "    print(rd)\n",
    "    rd = fp.readline()\n",
    "    print(rd)\n",
    "    fp.close()\n",
    "def fileRead4():\n",
    "    fp = open('data/test.txt', 'r')\n",
    "    for rd in fp:\n",
    "        print(rd)\n",
    "    fp.close()\n",
    "def fileRead5():\n",
    "    fp = open('data/test.txt', 'r')\n",
    "    rd = fp.readlines()\n",
    "    my = [ n.strip() for n in rd ]\n",
    "    print(rd)\n",
    "    print(my)\n",
    "    fp.close()\n",
    "fileWrite3()\n",
    "fileRead3()\n",
    "fileRead4()\n",
    "fileRead5()"
   ]
  },
  {
   "cell_type": "code",
   "execution_count": 7,
   "metadata": {},
   "outputs": [
    {
     "name": "stdout",
     "output_type": "stream",
     "text": [
      "kor\n",
      "ea\n"
     ]
    }
   ],
   "source": [
    "def fileWrite6():\n",
    "    fp = open('data/test.txt', 'w')   # w, r, a   |   t, b\n",
    "    fp.write('kor\\nea')\n",
    "    fp.close()\n",
    "def fileRead6():\n",
    "    fp = open('data/test.txt', 'r')\n",
    "    rd = fp.read()\n",
    "    print(rd)\n",
    "    fp.close()\n",
    "\n",
    "fileWrite6()\n",
    "fileRead6()"
   ]
  },
  {
   "cell_type": "code",
   "execution_count": 8,
   "metadata": {},
   "outputs": [],
   "source": [
    "### text, binary\n",
    "# text mode read/write과정에서 코드 변환이 발생함"
   ]
  },
  {
   "cell_type": "code",
   "execution_count": 9,
   "metadata": {},
   "outputs": [],
   "source": [
    "### 객체 Serialize\n",
    "\n",
    "import pickle\n",
    "\n",
    "def objectWrite(obj, fname):\n",
    "    fp = open(fname, 'wb')\n",
    "    pickle.dump(obj, fp)\n",
    "    fp.close()\n",
    "\n",
    "def objectRead(fname):\n",
    "    fp = open(fname, 'rb')\n",
    "    obj = pickle.load(fp)\n",
    "    fp.close()\n",
    "    return obj\n",
    "\n"
   ]
  },
  {
   "cell_type": "code",
   "execution_count": 10,
   "metadata": {},
   "outputs": [
    {
     "name": "stdout",
     "output_type": "stream",
     "text": [
      "[10, 20, 30]\n"
     ]
    }
   ],
   "source": [
    "myList = [10,20,30]\n",
    "objectWrite(myList, 'data/olist.bin')\n",
    "myList2 = objectRead('data/olist.bin')\n",
    "print(myList2)\n"
   ]
  },
  {
   "cell_type": "code",
   "execution_count": 11,
   "metadata": {},
   "outputs": [
    {
     "name": "stdout",
     "output_type": "stream",
     "text": [
      "[{'name': '홍길동', 'age': 30}, {'name': '이순신', 'age': 50}]\n"
     ]
    }
   ],
   "source": [
    "mydicList = [{'name':'홍길동', 'age': 30},\n",
    "             {'name':'이순신', 'age': 50}]\n",
    "objectWrite(mydicList, 'data/odiclist.bin')\n",
    "mydicList2 = objectRead('data/odiclist.bin')\n",
    "print(mydicList2)\n"
   ]
  },
  {
   "cell_type": "code",
   "execution_count": 2,
   "metadata": {},
   "outputs": [],
   "source": [
    "### sqllite로 object export\n",
    "\n",
    "import shelve\n",
    "\n",
    "def sWrite():\n",
    "    s = shelve.open('data/mys')\n",
    "    s['name'] = '홍길동'\n",
    "    s['hi']={'aa':20}\n",
    "    s['hello'] = [10,20,30]\n",
    "    s.close()\n",
    "def sRead():\n",
    "    s = shelve.open('data/mys')\n",
    "    for k in s.keys():\n",
    "        print(\"{}: {}\".format(k, s[k]))\n",
    "#     print(s['name'])\n",
    "#     print(s['hi'])\n",
    "#     print(s['hello'])\n",
    "    s.close()\n"
   ]
  },
  {
   "cell_type": "code",
   "execution_count": 3,
   "metadata": {},
   "outputs": [
    {
     "name": "stdout",
     "output_type": "stream",
     "text": [
      "name: 홍길동\n",
      "hi: {'aa': 20}\n",
      "hello: [10, 20, 30]\n"
     ]
    }
   ],
   "source": [
    "sWrite()\n",
    "sRead()"
   ]
  },
  {
   "cell_type": "code",
   "execution_count": null,
   "metadata": {},
   "outputs": [],
   "source": []
  }
 ],
 "metadata": {
  "kernelspec": {
   "display_name": "Python 3",
   "language": "python",
   "name": "python3"
  },
  "language_info": {
   "codemirror_mode": {
    "name": "ipython",
    "version": 3
   },
   "file_extension": ".py",
   "mimetype": "text/x-python",
   "name": "python",
   "nbconvert_exporter": "python",
   "pygments_lexer": "ipython3",
   "version": "3.6.2"
  }
 },
 "nbformat": 4,
 "nbformat_minor": 2
}
