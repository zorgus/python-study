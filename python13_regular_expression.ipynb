{
 "cells": [
  {
   "cell_type": "code",
   "execution_count": 2,
   "metadata": {},
   "outputs": [],
   "source": [
    "### 정규식\n",
    "'''\n",
    "반복 메타\n",
    "* 0회 이상 반복 \n",
    "+ 1회 이상 반복 \n",
    "? 0회 or 1회 \n",
    "{m} m회 반복 \n",
    "{m, n} m회부터 n회까지 반복\n",
    "\n",
    "매칭 메타\n",
    ". 줄바꿈 문자를 제외한 모든 문자와 매치됨 \n",
    "^ 문자열의 시작과 매치됨 \n",
    "$ 문자열의 마지막과 매치됨 \n",
    "[ ] 문자 집합 중 한 문자를 의미 \n",
    "| 또는(or)를 의미 \n",
    "( ) 정규식을 그룹으로 묶음\n",
    "\n",
    "이스케이프 기호\n",
    "\\d 모든 숫자와 매치됨 [0-9]\n",
    "\\D 숫자가 아닌 문자와 매치됨 [^0-9] \n",
    "\\s 화이트 스페이스 문자와 매치됨 [ \\t\\n\\r\\f\\v] \n",
    "\\S 화이트 스페이스가 아닌 것과 매치됨 [^ \\t\\n\\r\\f\\v] \n",
    "\\w 숫자 또는 문자와 매치됨 [a-zA-Z0-9_] \n",
    "\\W 숫자 또는 문자가 아닌 것과 매치됨 [^a-zA-Z0-9_] \n",
    "\\b 단어의 경계를 나타냄. 단어는 영문자 혹은 숫자의 연속 문자열 \n",
    "\\B 단어의 경계가 아님을 나타냄 \n",
    "\\A 문자열의 처음에만 일치 \n",
    "\\Z 문자열의 끝에만 일치\n",
    "\n",
    "최소매칭을 위한 정규식\n",
    "*? *와 같으나 문자열을 취소로 매치함 \n",
    "+? +와 같으나 문자열을 취소로 매치함 \n",
    "?? ?와 같으나 문자열을 최소로 매치함 \n",
    "{m,n}? {m,n}과 같으나 문자열을 최소로 매치함\n",
    "\n",
    "플래그\n",
    "I, IGNORECATE 대, 소문자를 구별하지 않는다 \n",
    "L, LOCATE \\w, \\W, \\b, \\B를 현재의 로케일에 영향을 받게 한다 \n",
    "M, MULTILINE ^가 문자열의 맨 처음, 각 라인의 맨 처음과 매치 된다 $는 문자열의 맨 끝, 각 라인의 맨 끝과 매치 \n",
    "S, DOTALL .을 줄바꾸기 문자도 포함하여 매치하게 한다 \n",
    "U, UNICODE \\w, \\W, \\b, \\B가 유니코드 문자 특성에 의존하게 한다 \n",
    "X, VERBOSE 정규식 안의 공백은 무시된다\n",
    "\n",
    "주요메소드\n",
    "compile(pattern[, flags]) pattern을 컴파일하여 정규식 객체를 반환 \n",
    "match(pattern, string[,flags]) string의 시작부분부터 pattern이 존재하는지 검사하여 MatchObject 인스턴스를 반환 \n",
    "search(pattern, string[,flags]) string의 전체에 대해서 pattern이 존재하는지 검사하여 MatchObject 인스턴스를 반환 \n",
    "split(pattern, string[, maxplit=0]) pattern을 구분자로 string을 분리하여 리스트로 반환 \n",
    "findall(pattern, string[, flags]) string에서 pattern을 만족하는 문자열을 리스트로 반환 \n",
    "finditer(pattern, string[, flags]) string에서 pattern을 만족하는 문자열을 반복자로 반환 \n",
    "sub(pattern, repl, string[, count=0]) string에서 pattern과 일치하는 부분에 대하여 repl로 교체하여 결과 문자열을 반환\n",
    "subn(pattern, repl, string[, count=0]) sub와 동일하나, 결과로(결과문자열, 매칭횟수)를 튜플로 반환 \n",
    "escape(string) 영문자 숫자가 아닌 문자들을 백슬래쉬 처리해서 리턴. (임의의 문자열을 정규식 패턴으로 사용할 경우 유용)\n",
    "\n",
    "Match 클래스 메소드\n",
    "group([group1, ...]) 입력받은 인덱스에 해당하는 매칭된 문자열 결과의 부분 집합을 반환합니다. 인덱스가 '0'이거나 입력되지 않은 경우 전체 매칭 문자열을 반환합니다. \n",
    "groups() 매칭된 결과를 튜플 형태로 반환 \n",
    "groupdict() 이름이 붙여진 매칭 결과를 사전 형태로 반환 \n",
    "start([group]) 매칭된 결과 문자열의 시작 인덱스를 반환. (인자로 부분 집합의 번호나 명시된 이름이 전달된 경우, 그에 해당하는 시작 인덱스를 반환) \n",
    "end([group]) 매칭된 결과 문자열의 종료 인덱스를 반환. (인자로 부분 집합의 번호나 명시된 이름이 전달된 경우, 그에 해당하는 종료 인덱스를 반환) \n",
    "pos 원본 문자열에서 검색을 시작하는 위치입니다. \n",
    "endpos 원본 문자열에서 검색을 종료하는 위치입니다. \n",
    "lastindex 매칭된 결과 집합에서 마지막 인덱스 번호를 반환. (일치된 결과가 없는 경우 에는 None을 반환) \n",
    "lastgroup 매칭된 결과 집합에서 마지막으로 일치한 이름을 반환. (정규식의 매칭 조건에 이름이 지정되지 않았거나 일치된 결과가 없는 경우 None 반환) \n",
    "string 매칭의 대상이 되는 원본 문자열입니다.\n",
    "\n",
    "\n",
    "'''"
   ]
  },
  {
   "cell_type": "code",
   "execution_count": 6,
   "metadata": {},
   "outputs": [
    {
     "name": "stdout",
     "output_type": "stream",
     "text": [
      "kiwi\n"
     ]
    }
   ],
   "source": [
    "\n",
    "import re\n",
    "\n",
    "s1 = \"apple kiwi banna orange\"\n",
    "\n",
    "try:\n",
    "    match = re.search(\"kiwi\", s1)\n",
    "    print(match.group())\n",
    "except Exception as err:\n",
    "    print(\"not found\")\n",
    "\n"
   ]
  },
  {
   "cell_type": "code",
   "execution_count": 9,
   "metadata": {},
   "outputs": [
    {
     "name": "stdout",
     "output_type": "stream",
     "text": [
      "ale\n"
     ]
    }
   ],
   "source": [
    "### 반복메타\n",
    "# *: 앞문자가 0회이상 반복\n",
    "\n",
    "s1 = \"ale kiwi banna orange\"\n",
    "\n",
    "try:\n",
    "    match = re.search(\"ap*le\", s1)\n",
    "    print(match.group())\n",
    "except Exception as err:\n",
    "    print(\"not found\")\n",
    "\n"
   ]
  },
  {
   "cell_type": "code",
   "execution_count": 11,
   "metadata": {},
   "outputs": [
    {
     "name": "stdout",
     "output_type": "stream",
     "text": [
      "not found\n"
     ]
    }
   ],
   "source": [
    "### 반복메타\n",
    "# +: 앞문자가 1회이상 반복\n",
    "\n",
    "s1 = \"ale kiwi banna orange\"\n",
    "\n",
    "try:\n",
    "    match = re.search(\"ap+le\", s1)\n",
    "    print(match.group())\n",
    "except Exception as err:\n",
    "    print(\"not found\")\n"
   ]
  },
  {
   "cell_type": "code",
   "execution_count": 16,
   "metadata": {},
   "outputs": [
    {
     "name": "stdout",
     "output_type": "stream",
     "text": [
      "ale\n",
      "aple\n",
      "not found\n"
     ]
    }
   ],
   "source": [
    "### 반복메타\n",
    "# ?: 앞문자가 0회 또는 1회\n",
    "\n",
    "s1 = \"ale kiwi banna orange\"\n",
    "s2 = \"aple kiwi banna orange\"\n",
    "s3 = \"apple kiwi banna orange\"\n",
    "\n",
    "try:\n",
    "    match = re.search(\"ap?le\", s1)\n",
    "    print(match.group())\n",
    "    match = re.search(\"ap?le\", s2)\n",
    "    print(match.group())\n",
    "    match = re.search(\"ap?le\", s3)\n",
    "    print(match.group())\n",
    "except Exception as err:\n",
    "    print(\"not found\")\n"
   ]
  },
  {
   "cell_type": "code",
   "execution_count": 20,
   "metadata": {},
   "outputs": [
    {
     "name": "stdout",
     "output_type": "stream",
     "text": [
      "not found\n",
      "apple\n",
      "not found\n",
      "appple\n"
     ]
    }
   ],
   "source": [
    "### 반복메타\n",
    "# {#}: 앞문자가 #회 반복\n",
    "# {#,$}: 앞문자가 #회~$회 반복\n",
    "\n",
    "s1 = \"aple kiwi banna orange\"\n",
    "s2 = \"apple kiwi banna orange\"\n",
    "s3 = \"appple kiwi banna orange\"\n",
    "\n",
    "try:\n",
    "    match = re.search(\"ap{2}le\", s1)\n",
    "    print(match.group())\n",
    "except Exception as err:\n",
    "    print(\"not found\")\n",
    "\n",
    "try:\n",
    "    match = re.search(\"ap{2}le\", s2)\n",
    "    print(match.group())\n",
    "except Exception as err:\n",
    "    print(\"not found\")\n",
    "\n",
    "try:\n",
    "    match = re.search(\"ap{2}le\", s3)\n",
    "    print(match.group())\n",
    "except Exception as err:\n",
    "    print(\"not found\")\n",
    "\n",
    "try:\n",
    "    match = re.search(\"ap{2,4}le\", s3)\n",
    "    print(match.group())\n",
    "except Exception as err:\n",
    "    print(\"not found\")\n"
   ]
  },
  {
   "cell_type": "code",
   "execution_count": 24,
   "metadata": {},
   "outputs": [
    {
     "name": "stdout",
     "output_type": "stream",
     "text": [
      "kiwi\n",
      "kiai\n",
      "not found\n"
     ]
    }
   ],
   "source": [
    "### 매칭 메타\n",
    "# . : 줄바꿈 문자를 제외한 모든 문자와 매치됨 \n",
    "\n",
    "s1 = \"appppple kiwi banna orange\"\n",
    "s2 = \"appppple kiai banna orange\"\n",
    "s3 = \"appppple ki\\ni banna orange\"\n",
    "\n",
    "try:\n",
    "    match = re.search(\"ki.i\", s1)\n",
    "    print(match.group())\n",
    "except Exception as err:\n",
    "    print(\"not found\")\n",
    "try:\n",
    "    match = re.search(\"ki.i\", s2)\n",
    "    print(match.group())\n",
    "except Exception as err:\n",
    "    print(\"not found\")\n",
    "try:\n",
    "    match = re.search(\"ki.i\", s3)\n",
    "    print(match.group())\n",
    "except Exception as err:\n",
    "    print(\"not found\")\n"
   ]
  },
  {
   "cell_type": "code",
   "execution_count": 28,
   "metadata": {},
   "outputs": [
    {
     "name": "stdout",
     "output_type": "stream",
     "text": [
      "app\n",
      "not found\n"
     ]
    }
   ],
   "source": [
    "### 매칭 메타\n",
    "# ^ : 문자열의 시작과 매치\n",
    "\n",
    "s1 = \"apple kiwi banna orange\"\n",
    "\n",
    "try:\n",
    "    match = re.search(\"^app\", s1)\n",
    "    print(match.group())\n",
    "except Exception as err:\n",
    "    print(\"not found\")\n",
    "try:\n",
    "    match = re.search(\"^kiwi\", s1)\n",
    "    print(match.group())\n",
    "except Exception as err:\n",
    "    print(\"not found\")\n"
   ]
  },
  {
   "cell_type": "code",
   "execution_count": 30,
   "metadata": {},
   "outputs": [
    {
     "name": "stdout",
     "output_type": "stream",
     "text": [
      "orange\n",
      "not found\n"
     ]
    }
   ],
   "source": [
    "### 매칭 메타\n",
    "# $ : 문자열의 마지막과 매치\n",
    "\n",
    "s1 = \"apple kiwi banna orange\"\n",
    "\n",
    "try:\n",
    "    match = re.search(\"orange$\", s1)\n",
    "    print(match.group())\n",
    "except Exception as err:\n",
    "    print(\"not found\")\n",
    "try:\n",
    "    match = re.search(\"banna$\", s1)\n",
    "    print(match.group())\n",
    "except Exception as err:\n",
    "    print(\"not found\")\n"
   ]
  },
  {
   "cell_type": "code",
   "execution_count": 35,
   "metadata": {},
   "outputs": [
    {
     "name": "stdout",
     "output_type": "stream",
     "text": [
      "kiwi\n",
      "kixi\n",
      "not found\n",
      "not found\n",
      "kixi\n",
      "ki3i\n"
     ]
    }
   ],
   "source": [
    "### 매칭 메타\n",
    "# [] : 문자열의 집합중 한 문자\n",
    "#      범위지정 가능\n",
    "\n",
    "s1 = \"apple kiwi banna orange\"\n",
    "s2 = \"apple kixi banna orange\"\n",
    "s3 = \"apple kiai banna orange\"\n",
    "s4 = \"apple kixai banna orange\"\n",
    "s5 = \"apple ki3i banna orange\"\n",
    "\n",
    "try:\n",
    "    match = re.search(\"ki[wxy]i\", s1)\n",
    "    print(match.group())\n",
    "except Exception as err:\n",
    "    print(\"not found\")\n",
    "try:\n",
    "    match = re.search(\"ki[wxy]i\", s2)\n",
    "    print(match.group())\n",
    "except Exception as err:\n",
    "    print(\"not found\")\n",
    "try:\n",
    "    match = re.search(\"ki[wxy]i\", s3)\n",
    "    print(match.group())\n",
    "except Exception as err:\n",
    "    print(\"not found\")\n",
    "try:\n",
    "    match = re.search(\"ki[wxy]i\", s4)\n",
    "    print(match.group())\n",
    "except Exception as err:\n",
    "    print(\"not found\")\n",
    "try:\n",
    "    match = re.search(\"ki[w-y]i\", s2)\n",
    "    print(match.group())\n",
    "except Exception as err:\n",
    "    print(\"not found\")\n",
    "try:\n",
    "    match = re.search(\"ki[w-y0-9]i\", s5)\n",
    "    print(match.group())\n",
    "except Exception as err:\n",
    "    print(\"not found\")"
   ]
  },
  {
   "cell_type": "code",
   "execution_count": 42,
   "metadata": {},
   "outputs": [
    {
     "name": "stdout",
     "output_type": "stream",
     "text": [
      "서울이\n"
     ]
    }
   ],
   "source": [
    "### 매칭 메타\n",
    "# [] : 문자열의 집합중 한 문자\n",
    "#      범위지정 가능\n",
    "\n",
    "s2 = \"서울이 강남구\"\n",
    "\n",
    "try:\n",
    "    #match = re.search(\"서울[시은가]\", s2)\n",
    "    match = re.search(\"서울[가-힣]\", s2)\n",
    "    print(match.group())\n",
    "except Exception as err:\n",
    "    print(\"not found\")\n"
   ]
  },
  {
   "cell_type": "code",
   "execution_count": 52,
   "metadata": {},
   "outputs": [
    {
     "name": "stdout",
     "output_type": "stream",
     "text": [
      "kiaaaabbbccci\n",
      "apple\n",
      "kiaaaabbbccci\n"
     ]
    }
   ],
   "source": [
    "### 매칭 메타\n",
    "# []+ : 문자열의 집합이 1회이상 반복\n",
    "\n",
    "s1 = \"apple kiaaaabbbccci banna orange\"\n",
    "\n",
    "try:\n",
    "    match = re.search(\"ki[abc]+i\", s1)\n",
    "    print(match.group())\n",
    "except Exception as err:\n",
    "    print(\"not found\")\n",
    "\n",
    "try:\n",
    "    match = re.search(\"[a-z]+\", s1)\n",
    "    print(match.group())\n",
    "except Exception as err:\n",
    "    print(\"not found\")\n",
    "\n",
    "try:\n",
    "    match = re.search(\"k[a-z]+\", s1)\n",
    "    print(match.group())\n",
    "except Exception as err:\n",
    "    print(\"not found\")"
   ]
  },
  {
   "cell_type": "code",
   "execution_count": 54,
   "metadata": {},
   "outputs": [
    {
     "name": "stdout",
     "output_type": "stream",
     "text": [
      "fruit\n"
     ]
    }
   ],
   "source": [
    "### 매칭 메타\n",
    "# | : or\n",
    "\n",
    "s1 = \"apple kiaaaabbbccci banna orange\"\n",
    "\n",
    "try:\n",
    "    match = re.search(\"apple|fruit\", s1)\n",
    "    print(match.group())\n",
    "except Exception as err:\n",
    "    print(\"not found\")\n",
    "\n"
   ]
  },
  {
   "cell_type": "code",
   "execution_count": 71,
   "metadata": {},
   "outputs": [
    {
     "name": "stdout",
     "output_type": "stream",
     "text": [
      "ki2i\n",
      "kiwi\n",
      "ki2i k\n",
      "apple ki2i\n"
     ]
    }
   ],
   "source": [
    "### 이스케이프 기호\n",
    "\n",
    "s1 = \"apple ki2i kiwi banna orange\"\n",
    "\n",
    "# \\d : [0-9]\n",
    "try:\n",
    "    match = re.search(\"ki\\di\", s1)\n",
    "    print(match.group())\n",
    "except Exception as err:\n",
    "    print(\"not found\")\n",
    "\n",
    "# \\D : [^0-9]\n",
    "try:\n",
    "    match = re.search(\"ki\\Di\", s1)\n",
    "    print(match.group())\n",
    "except Exception as err:\n",
    "    print(\"not found\")\n",
    "\n",
    "# \\s : [ \\t\\n\\r\\f\\v]\n",
    "try:\n",
    "    match = re.search(\"ki.i\\sk\", s1)\n",
    "    print(match.group())\n",
    "except Exception as err:\n",
    "    print(\"not found\")\n",
    "\n",
    "# \\S : [^ \\t\\n\\r\\f\\v]\n",
    "try:\n",
    "    match = re.search(\"\\S+\\s\\S+\", s1)\n",
    "    print(match.group())\n",
    "except Exception as err:\n",
    "    print(\"not found\")\n",
    "\n",
    "# \\w : [a-zA-Z0-9_]\n",
    "# \\W : [^a-zA-Z0-9_]\n",
    "# \\A : ^\n",
    "# \\Z : $"
   ]
  },
  {
   "cell_type": "code",
   "execution_count": 87,
   "metadata": {},
   "outputs": [
    {
     "name": "stdout",
     "output_type": "stream",
     "text": [
      "123-abc\n",
      "()\n",
      "123-abc\n",
      "('123', 'abc')\n",
      "123\n",
      "abc\n"
     ]
    }
   ],
   "source": [
    "### groups, pattern내의 group지정\n",
    "\n",
    "# 숫자3자리-영어소문자3자리 찾기\n",
    "\n",
    "s3 = '123-abc def-ghi'\n",
    "\n",
    "try:\n",
    "    match = re.search(\"\\d{3}-[a-z]{3}\", s3)\n",
    "    print(match.group())\n",
    "    print(match.groups())\n",
    "except Exception as err:\n",
    "    print(\"not found\")\n",
    "try:\n",
    "    match = re.search(\"(\\d{3})-([a-z]{3})\", s3)\n",
    "    print(match.group())\n",
    "    print(match.groups())\n",
    "    print(match.group(1))\n",
    "    print(match.group(2))\n",
    "except Exception as err:\n",
    "    print(\"not found\")\n"
   ]
  },
  {
   "cell_type": "code",
   "execution_count": 101,
   "metadata": {},
   "outputs": [
    {
     "name": "stdout",
     "output_type": "stream",
     "text": [
      "index.html\n",
      "aaa\n",
      "a123.txt\n"
     ]
    }
   ],
   "source": [
    "s4 = '<a href=\"index.html\">adbdef</a><font class=\"a.aa\">'\n",
    "s5 = '<a href=\"aaa\">adbdef</a><font class=\"a.aa\">'\n",
    "s6 = '<a href=\"a123.txt\">adbdef</a><font class=\"a.aa\">'\n",
    "\n",
    "reexp = 'a href=\"([\\w.]+)\"'\n",
    "try:\n",
    "    match = re.search(reexp, s4)\n",
    "    print(match.group(1))\n",
    "except Exception as err:\n",
    "    print(\"not found\")\n",
    "try:\n",
    "    match = re.search(reexp, s5)\n",
    "    print(match.group(1))\n",
    "except Exception as err:\n",
    "    print(\"not found\")\n",
    "try:\n",
    "    match = re.search(reexp, s6)\n",
    "    print(match.group(1))\n",
    "except Exception as err:\n",
    "    print(\"not found\")"
   ]
  },
  {
   "cell_type": "code",
   "execution_count": 108,
   "metadata": {},
   "outputs": [
    {
     "name": "stdout",
     "output_type": "stream",
     "text": [
      "['python', 'program']\n",
      "['i', 'like', 'python', 'like', 'program']\n"
     ]
    }
   ],
   "source": [
    "### 모든 매칭 가져옴 findall\n",
    "\n",
    "s5 = 'i like python like program'\n",
    "\n",
    "try:\n",
    "    sList = re.findall('p[a-z]+', s5)\n",
    "    print(sList)\n",
    "except Exception as err:\n",
    "    print(\"not found\")\n",
    "\n",
    "try:\n",
    "    sList = re.findall('\\S+', s5)\n",
    "    print(sList)\n",
    "except Exception as err:\n",
    "    print(\"not found\")"
   ]
  },
  {
   "cell_type": "code",
   "execution_count": 117,
   "metadata": {},
   "outputs": [
    {
     "name": "stdout",
     "output_type": "stream",
     "text": [
      "['ab.bcd.def.kim@gmail.com', 'aa@bb']\n",
      "['ab.bcd.def.kim@.com', 'aa@bb']\n",
      "['ab.bcd.def.kim', 'aa']\n"
     ]
    }
   ],
   "source": [
    "s6 = 'aaaa ab.bcd.def.kim@gmail.com xxx aa@bb'\n",
    "s7 = 'aaaa ab.bcd.def.kim@.com xxx aa@bb'\n",
    "\n",
    "try:\n",
    "    sList = re.findall('[\\w.]+@[\\w.]+', s6)\n",
    "    print(sList)\n",
    "except Exception as err:\n",
    "    print(\"not found\")\n",
    "try:\n",
    "    sList = re.findall('[\\w.]+@[\\w.]+', s7)\n",
    "    print(sList)\n",
    "except Exception as err:\n",
    "    print(\"not found\")\n",
    "try:\n",
    "    sList = re.findall('([\\w.]+)@', s6)\n",
    "    print(sList)\n",
    "except Exception as err:\n",
    "    print(\"not found\")"
   ]
  },
  {
   "cell_type": "code",
   "execution_count": 124,
   "metadata": {},
   "outputs": [
    {
     "name": "stdout",
     "output_type": "stream",
     "text": [
      "['i', 'like', 'python', 'like', 'program']\n",
      "i like love like love\n"
     ]
    }
   ],
   "source": [
    "s7 = 'i like python like program'\n",
    "try:\n",
    "    sList = re.split('[- #.]+', s7)\n",
    "    print(sList)\n",
    "    s = re.sub('p\\w+', 'love', s7)\n",
    "    print(s)\n",
    "except Exception as err:\n",
    "    print(\"not found\")"
   ]
  }
 ],
 "metadata": {
  "kernelspec": {
   "display_name": "Python 3",
   "language": "python",
   "name": "python3"
  },
  "language_info": {
   "codemirror_mode": {
    "name": "ipython",
    "version": 3
   },
   "file_extension": ".py",
   "mimetype": "text/x-python",
   "name": "python",
   "nbconvert_exporter": "python",
   "pygments_lexer": "ipython3",
   "version": "3.6.3"
  }
 },
 "nbformat": 4,
 "nbformat_minor": 2
}
