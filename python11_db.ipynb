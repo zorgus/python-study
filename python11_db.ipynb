{
 "cells": [
  {
   "cell_type": "code",
   "execution_count": 2,
   "metadata": {},
   "outputs": [],
   "source": [
    "### DB\n",
    "# 관계형(RDBMS)\n",
    "#   대형: 오라클, 사이베이스, DB2, 인포믹스,...\n",
    "#   중형: sqlserver, mysql, maria\n",
    "#   소형: sqlite, access\n",
    "# 비관계형(no sql)\n",
    "#   json형태로 저장(dictionary형식)\n",
    "#   빅데이터에 주로 사용\n",
    "#   몽고, reds, 카산드라,...\n",
    "#\n",
    "#  DB -> table\n",
    "#\n",
    "# sqlite browser 설치\n",
    "#    http://sqlitebrowser.org/\n"
   ]
  },
  {
   "cell_type": "code",
   "execution_count": 4,
   "metadata": {},
   "outputs": [],
   "source": [
    "### sqlite3\n",
    "\n",
    "import sqlite3\n",
    "\n",
    "def createTable():\n",
    "    # db가 없으면 생성후 open\n",
    "    # db가 있으면 open\n",
    "    try:\n",
    "        db = sqlite3.connect('data/my.db')\n",
    "        sql = 'create table student(name varchar(20), age int)'\n",
    "        db.execute(sql)\n",
    "        db.commit()           # 취소는 rollback\n",
    "        db.close()\n",
    "        print(\"생성 성공\")\n",
    "    except Exception as err:\n",
    "        print(\"실패:\", err)\n"
   ]
  },
  {
   "cell_type": "code",
   "execution_count": 13,
   "metadata": {},
   "outputs": [],
   "source": [
    "def insertTable():\n",
    "    try:\n",
    "        sql = \"insert into student(name, age) values(?, ?)\"\n",
    "        db = sqlite3.connect('data/my.db')\n",
    "        # 데이터 포맷\n",
    "        data = ('홍길동',30)\n",
    "        db.execute(sql, data)\n",
    "        # 여러 데이터 추가\n",
    "        datas = [('김철수1',20),('김철수2',30),('김철수3',40)]\n",
    "        db.executemany(sql, datas)\n",
    "        db.commit()           # 취소는 rollback\n",
    "        db.close()\n",
    "        print(\"추가 성공\")\n",
    "    except Exception as err:\n",
    "        print(\"실패:\", err)"
   ]
  },
  {
   "cell_type": "code",
   "execution_count": 14,
   "metadata": {},
   "outputs": [
    {
     "name": "stdout",
     "output_type": "stream",
     "text": [
      "추가 성공\n"
     ]
    }
   ],
   "source": [
    "insertTable()"
   ]
  },
  {
   "cell_type": "code",
   "execution_count": 17,
   "metadata": {},
   "outputs": [],
   "source": [
    "def selectTable():\n",
    "    try:\n",
    "        sql = \"select * from student\"\n",
    "        db = sqlite3.connect('data/my.db')\n",
    "        cur = db.cursor()\n",
    "        cur.execute(sql)\n",
    "        data = cur.fetchall()\n",
    "        db.commit()\n",
    "        db.close()\n",
    "        print(\"가져오기 성공\")\n",
    "        print(data)\n",
    "        for n,a in data:\n",
    "            print(n,a)\n",
    "    except Exception as err:\n",
    "        print(\"실패:\", err)"
   ]
  },
  {
   "cell_type": "code",
   "execution_count": 38,
   "metadata": {},
   "outputs": [],
   "source": [
    "### cursor이용\n",
    "\n",
    "def selectTable2():\n",
    "    try:\n",
    "        sql = \"select * from student\"\n",
    "        db = sqlite3.connect('data/my.db')\n",
    "        cur = db.cursor()\n",
    "        cur.execute(sql)\n",
    "        for n,a in cur:\n",
    "            print(n,a)\n",
    "        db.commit()\n",
    "        db.close()\n",
    "        print(\"가져오기 성공\")\n",
    "    except Exception as err:\n",
    "        print(\"실패:\", err)"
   ]
  },
  {
   "cell_type": "code",
   "execution_count": 36,
   "metadata": {},
   "outputs": [],
   "source": [
    "### 정렬된 데이터\n",
    "\n",
    "def selectTable3():\n",
    "    try:\n",
    "        sql = \"select * from student order by name\"\n",
    "        db = sqlite3.connect('data/my.db')\n",
    "        cur = db.cursor()\n",
    "        cur.execute(sql)\n",
    "        for n,a in cur:\n",
    "            print(n,a)\n",
    "        db.commit()\n",
    "        db.close()\n",
    "        print(\"가져오기 성공\")\n",
    "    except Exception as err:\n",
    "        print(\"실패:\", err)"
   ]
  },
  {
   "cell_type": "code",
   "execution_count": 37,
   "metadata": {},
   "outputs": [
    {
     "name": "stdout",
     "output_type": "stream",
     "text": [
      "가져오기 성공\n",
      "[('홍길동', 30), ('김철수6', 20), ('김철수3', 40)]\n",
      "홍길동 30\n",
      "김철수6 20\n",
      "김철수3 40\n",
      "--------------------------------------------------------------------------------\n",
      "홍길동 30\n",
      "김철수6 20\n",
      "김철수3 40\n",
      "가져오기 성공\n",
      "--------------------------------------------------------------------------------\n",
      "김철수3 40\n",
      "김철수6 20\n",
      "홍길동 30\n",
      "가져오기 성공\n"
     ]
    }
   ],
   "source": [
    "selectTable()\n",
    "print('-'*80)\n",
    "selectTable2()\n",
    "print('-'*80)\n",
    "selectTable3()"
   ]
  },
  {
   "cell_type": "code",
   "execution_count": 32,
   "metadata": {},
   "outputs": [],
   "source": [
    "def updateTable():\n",
    "    try:\n",
    "        sql = \"update student set name='김철수6',age=20 where name='김철수2'\"\n",
    "        db = sqlite3.connect('data/my.db')\n",
    "        #db.execute(sql)\n",
    "        cur = db.cursor()\n",
    "        cur.execute(sql)\n",
    "        print(\"수정갯수:\", cur.rowcount)\n",
    "        db.commit()           # 취소는 rollback\n",
    "        db.close()\n",
    "        print(\"수정 성공\")\n",
    "    except Exception as err:\n",
    "        print(\"실패:\", err)"
   ]
  },
  {
   "cell_type": "code",
   "execution_count": 33,
   "metadata": {
    "scrolled": true
   },
   "outputs": [
    {
     "name": "stdout",
     "output_type": "stream",
     "text": [
      "수정갯수: 1\n",
      "수정 성공\n",
      "가져오기 성공\n",
      "[('홍길동', 30), ('김철수5', 20), ('김철수6', 20), ('김철수3', 40)]\n",
      "홍길동 30\n",
      "김철수5 20\n",
      "김철수6 20\n",
      "김철수3 40\n"
     ]
    }
   ],
   "source": [
    "updateTable()\n",
    "selectTable()"
   ]
  },
  {
   "cell_type": "code",
   "execution_count": 34,
   "metadata": {},
   "outputs": [],
   "source": [
    "def deleteTable():\n",
    "    try:\n",
    "        sql = \"delete from student where name='김철수5'\"\n",
    "        db = sqlite3.connect('data/my.db')\n",
    "        cur = db.cursor()\n",
    "        cur.execute(sql)\n",
    "        print(\"삭제갯수:\", cur.rowcount)\n",
    "        db.commit()           # 취소는 rollback\n",
    "        db.close()\n",
    "        print(\"삭제 성공\")\n",
    "    except Exception as err:\n",
    "        print(\"실패:\", err)"
   ]
  },
  {
   "cell_type": "code",
   "execution_count": 35,
   "metadata": {},
   "outputs": [
    {
     "name": "stdout",
     "output_type": "stream",
     "text": [
      "삭제갯수: 1\n",
      "삭제 성공\n",
      "가져오기 성공\n",
      "[('홍길동', 30), ('김철수6', 20), ('김철수3', 40)]\n",
      "홍길동 30\n",
      "김철수6 20\n",
      "김철수3 40\n"
     ]
    }
   ],
   "source": [
    "deleteTable()\n",
    "selectTable()"
   ]
  }
 ],
 "metadata": {
  "kernelspec": {
   "display_name": "Python 3",
   "language": "python",
   "name": "python3"
  },
  "language_info": {
   "codemirror_mode": {
    "name": "ipython",
    "version": 3
   },
   "file_extension": ".py",
   "mimetype": "text/x-python",
   "name": "python",
   "nbconvert_exporter": "python",
   "pygments_lexer": "ipython3",
   "version": "3.6.2"
  }
 },
 "nbformat": 4,
 "nbformat_minor": 2
}
