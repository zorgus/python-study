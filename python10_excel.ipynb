{
 "cells": [
  {
   "cell_type": "code",
   "execution_count": 2,
   "metadata": {},
   "outputs": [],
   "source": [
    "### Excel\n",
    "# 1. xlsxwriter (쓰기전용)\n",
    "# 2. openpyxl (읽기/쓰기)\n",
    "# install\n",
    "#  pip install Xlsxwriter\n",
    "#  pip install openpyxl"
   ]
  },
  {
   "cell_type": "code",
   "execution_count": 12,
   "metadata": {},
   "outputs": [],
   "source": [
    "import xlsxwriter"
   ]
  },
  {
   "cell_type": "code",
   "execution_count": 3,
   "metadata": {},
   "outputs": [
    {
     "name": "stdout",
     "output_type": "stream",
     "text": [
      "excel write\n"
     ]
    }
   ],
   "source": [
    "### xlsxwriter\n",
    "\n",
    "\n",
    "wb = xlsxwriter.Workbook('data/test.xlsx')\n",
    "sheet1 = wb.add_worksheet('mysheet1')\n",
    "sheet2 = wb.add_worksheet('mysheet2')\n",
    "\n",
    "sheet1.write('A1', 10)\n",
    "sheet1.write('A2', 20)\n",
    "sheet1.write('A3', '=sum(A1:A2)')\n",
    "sheet1.write(3,4,200)                         # (row, col, val)\n",
    "\n",
    "sheet2.write('A1', 'hello')\n",
    "\n",
    "wb.close()\n",
    "print('excel write')\n"
   ]
  },
  {
   "cell_type": "code",
   "execution_count": 11,
   "metadata": {},
   "outputs": [],
   "source": [
    "import openpyxl"
   ]
  },
  {
   "cell_type": "code",
   "execution_count": 6,
   "metadata": {},
   "outputs": [
    {
     "name": "stdout",
     "output_type": "stream",
     "text": [
      "save...done\n"
     ]
    }
   ],
   "source": [
    "### openpyxl : write\n",
    "\n",
    "\n",
    "wb = openpyxl.Workbook()\n",
    "ws1 = wb.active\n",
    "ws1.title = 'mysheet1'\n",
    "ws2 = wb.create_sheet('mysheet2')\n",
    "\n",
    "ws1['A1'] = 10\n",
    "ws1['A2'] = 'korea'\n",
    "ws1.append([10,20,30])\n",
    "ws1.append([40,50,60])\n",
    "ws1.cell(row=4, column=5).value = 50\n",
    "\n",
    "ws2['A1'] = 'hello'\n",
    "\n",
    "print(\"save...\", end='')\n",
    "wb.save('data/test1.xlsx')\n",
    "\n",
    "print(\"done\")"
   ]
  },
  {
   "cell_type": "code",
   "execution_count": 7,
   "metadata": {},
   "outputs": [
    {
     "name": "stdout",
     "output_type": "stream",
     "text": [
      "10\n",
      "korea\n"
     ]
    }
   ],
   "source": [
    "### openpyxl : read\n",
    "\n",
    "wb = openpyxl.load_workbook('data/test1.xlsx')\n",
    "ws1 = wb.get_sheet_by_name('mysheet1')\n",
    "ws2 = wb.get_sheet_by_name('mysheet2')\n",
    "\n",
    "print(ws1['A1'].value)\n",
    "print(ws1['A2'].value)\n",
    "ws1['B1'] = 'python'\n",
    "wb.save('data/test2.xlsx')\n"
   ]
  },
  {
   "cell_type": "code",
   "execution_count": 22,
   "metadata": {},
   "outputs": [
    {
     "name": "stdout",
     "output_type": "stream",
     "text": [
      "save data/test3.xlsx\n"
     ]
    }
   ],
   "source": [
    "### openpyxl : write list\n",
    "\n",
    "import openpyxl\n",
    "\n",
    "wb = openpyxl.Workbook()\n",
    "ws1 = wb.active\n",
    "ws1.title = \"mysheet1\"\n",
    "ws1.append([10,20,30])\n",
    "ws1.append([100,200,300])\n",
    "ws1.append([1000,2000,3000])\n",
    "wb.save('data/test3.xlsx')\n",
    "print('save data/test3.xlsx')\n",
    "\n"
   ]
  },
  {
   "cell_type": "code",
   "execution_count": 35,
   "metadata": {},
   "outputs": [
    {
     "name": "stdout",
     "output_type": "stream",
     "text": [
      "3\n",
      "<generator object Worksheet._cells_by_row at 0x0000029CA8F614C0>\n",
      "10 20 30 \n",
      "100 200 300 \n",
      "1000 2000 3000 \n",
      "--------------------------------------------------------------------------------\n",
      "200 300 \n",
      "2000 3000 \n"
     ]
    }
   ],
   "source": [
    "### openpyxl : access cells\n",
    "\n",
    "import openpyxl\n",
    "\n",
    "wb = openpyxl.load_workbook('data/test3.xlsx')\n",
    "ws1 = wb.get_sheet_by_name('mysheet1')\n",
    "print(ws1.max_row)\n",
    "print(ws1.rows)\n",
    "for row in ws1.rows:\n",
    "    # print(row[0].value)\n",
    "    for cell in row:\n",
    "        print(cell.value, end=' ')\n",
    "    print()\n",
    "\n",
    "print('-'*80)\n",
    "\n",
    "for r in range(2,4):\n",
    "    for c in range(2,4):\n",
    "        print(ws1.cell(row=r, column=c).value, end=' ')\n",
    "    print()"
   ]
  },
  {
   "cell_type": "code",
   "execution_count": 41,
   "metadata": {},
   "outputs": [],
   "source": [
    "### openpyxl : chart\n",
    "\n",
    "import openpyxl\n",
    "from openpyxl.chart import LineChart, BarChart, Series, Reference\n",
    "\n",
    "wb = openpyxl.Workbook()\n",
    "ws1 = wb.active\n",
    "ws1.title = \"mysheet1\"\n",
    "ws1.append(['number','title1', 'title2','title3'])\n",
    "\n",
    "ws1.append([2, 10,20,30])\n",
    "ws1.append([3, 40,40,20])\n",
    "ws1.append([4, 50,70,60])\n",
    "ws1.append([5, 60,30,80])\n",
    "ws1.append([6, 70,80,90])\n",
    "ws1.append([7, 80,20,20])\n",
    "\n",
    "chart1 = BarChart()\n",
    "chart1.style = 10               # Bar,Line color\n",
    "chart1.title = \"Bar chart\"      \n",
    "chart1.x_axis.title = \"x test\"\n",
    "chart1.y_axis.title = \"y test\"\n",
    "# chart를 그릴 data 범위를 지정\n",
    "data = Reference(ws1, min_col=2, max_col=4, min_row=1, max_row=7)\n",
    "# X축에 표시될 category 지정\n",
    "cat = Reference(ws1, min_col=1, min_row=2, max_row=7)\n",
    "# titles_from_data=True 첫번째 row는 title로 빠짐\n",
    "chart1.add_data(data, titles_from_data = True)\n",
    "chart1.set_categories(cat)\n",
    "ws1.add_chart(chart1, 'F1')\n",
    "\n",
    "wb.save('data/mychart.xlsx')\n"
   ]
  },
  {
   "cell_type": "code",
   "execution_count": 46,
   "metadata": {},
   "outputs": [
    {
     "name": "stdout",
     "output_type": "stream",
     "text": [
      "이름:홍길동\n",
      "국어:70\n",
      "영어:60\n",
      "수학:90\n",
      "계속입력(y/n):y\n",
      "이름:이순신\n",
      "국어:80\n",
      "영어:50\n",
      "수학:80\n",
      "계속입력(y/n):n\n",
      "data/jumsu.xlsx saved\n"
     ]
    }
   ],
   "source": [
    "# 이름:\n",
    "# 국어:\n",
    "# 영어:\n",
    "# 수학:\n",
    "# 계속입력(y/n):\n",
    "import openpyxl\n",
    "from openpyxl.chart import LineChart, BarChart, Series, Reference\n",
    "\n",
    "wb = openpyxl.Workbook()\n",
    "ws1 = wb.active\n",
    "ws1.title = \"mysheet1\"\n",
    "ws1.append(['이름','국어', '영어','수학'])\n",
    "\n",
    "while True:\n",
    "    name = input(\"이름:\")\n",
    "    kor = int(input(\"국어:\"))\n",
    "    eng = int(input(\"영어:\"))\n",
    "    math = int(input(\"수학:\"))\n",
    "    ws1.append([name, kor, eng, math])\n",
    "    yn = input(\"계속입력(y/n):\")\n",
    "    if yn == 'n':\n",
    "        break\n",
    "\n",
    "chart1 = BarChart()\n",
    "chart1.style = 10\n",
    "chart1.title = \"성적\"      \n",
    "chart1.x_axis.title = \"이름\"\n",
    "chart1.y_axis.title = \"점수\"\n",
    "# chart1.width = 10    #7.5\n",
    "# chart1.height = 20   #15\n",
    "# y축 범위\n",
    "chart1.y_axis.scaling.max = 100\n",
    "# chart를 그릴 data 범위를 지정\n",
    "data = Reference(ws1, min_col=2, max_col=4, min_row=1, max_row=ws1.max_row)\n",
    "# X축에 표시될 category 지정\n",
    "cat = Reference(ws1, min_col=1, min_row=2, max_row=ws1.max_row)\n",
    "# titles_from_data=True 첫번째 row는 title로 빠짐\n",
    "chart1.add_data(data, titles_from_data = True)\n",
    "chart1.set_categories(cat)\n",
    "ws1.add_chart(chart1, 'F1')\n",
    "\n",
    "wb.save('data/jumsu.xlsx')\n",
    "\n",
    "print(\"data/jumsu.xlsx saved\")"
   ]
  }
 ],
 "metadata": {
  "kernelspec": {
   "display_name": "Python 3",
   "language": "python",
   "name": "python3"
  },
  "language_info": {
   "codemirror_mode": {
    "name": "ipython",
    "version": 3
   },
   "file_extension": ".py",
   "mimetype": "text/x-python",
   "name": "python",
   "nbconvert_exporter": "python",
   "pygments_lexer": "ipython3",
   "version": "3.6.3"
  }
 },
 "nbformat": 4,
 "nbformat_minor": 2
}
