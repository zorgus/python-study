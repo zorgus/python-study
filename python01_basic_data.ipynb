{
 "cells": [
  {
   "cell_type": "code",
   "execution_count": null,
   "metadata": {},
   "outputs": [],
   "source": [
    "\n",
    "print('hello')\n",
    "print('korea')\n"
   ]
  },
  {
   "cell_type": "code",
   "execution_count": null,
   "metadata": {},
   "outputs": [],
   "source": [
    "\n",
    "a = 10\n",
    "b = 243232323123124214321389821331\n",
    "c = 0o1357 # 8진수\n",
    "d = 0x123\n",
    "e = 0b11 # 2진수\n",
    "f = 12\n",
    "print(a)\n",
    "print(type(a))\n",
    "print(b)\n",
    "print(c)\n",
    "print(d)\n",
    "print(e)\n",
    "print(f)\n",
    "print(oct(f))\n",
    "print(hex(f))\n",
    "print(bin(f))\n"
   ]
  },
  {
   "cell_type": "code",
   "execution_count": null,
   "metadata": {},
   "outputs": [],
   "source": [
    "a = 3.14\n",
    "print(a)\n",
    "print(type(a))\n",
    "b = 3.141592e2\n",
    "print(b)\n",
    "c = 3 + 4j\n",
    "print(c)\n",
    "print(type(c))\n",
    "print(c.real)\n",
    "print(c.imag)\n",
    "print(c.conjugate())\n",
    "d = -20\n",
    "print(abs(d))\n",
    "f = 3.14\n",
    "print(f.is_integer())\n"
   ]
  },
  {
   "cell_type": "code",
   "execution_count": null,
   "metadata": {},
   "outputs": [],
   "source": [
    "a = True\n",
    "print(a)\n",
    "print(type(a))\n",
    "\n",
    "a = True + 1\n",
    "print(a)\n",
    "print(type(a))\n"
   ]
  },
  {
   "cell_type": "code",
   "execution_count": null,
   "metadata": {},
   "outputs": [],
   "source": [
    "\n",
    "a = 'hel\\\n",
    "lo'\n",
    "b = \"kor\\\n",
    "ea\"\n",
    "c = '''pyt\n",
    "hon'''\n",
    "d = \"\"\"h\n",
    "        i\"\"\"\n",
    "# a[0] = 'd'\n",
    "print(a)\n",
    "print(a.capitalize())\n",
    "print(type(a))\n",
    "print(b)\n",
    "print(c)\n",
    "print(d)\n",
    "\n",
    "\n",
    "# a = int(100)\n",
    "# b = float(3.14)\n",
    "# c= str('abc')\n"
   ]
  },
  {
   "cell_type": "code",
   "execution_count": null,
   "metadata": {},
   "outputs": [],
   "source": [
    "### string indexing, slice\n",
    "\n",
    "a = 'abcdefg'\n",
    "print(a[0])\n",
    "print(a[6])\n",
    "print(a[-1])\n",
    "# 슬라이싱 [시작:끝:증가치]\n",
    "print(a[0:4:1])\n",
    "print(a[0:4])\n",
    "print(a[:4])\n",
    "print(a[1:])\n",
    "print(a[-1:-4:-1])\n",
    "print(a[-1::-1])\n",
    "# a[0] = 'A'\n"
   ]
  },
  {
   "cell_type": "code",
   "execution_count": 8,
   "metadata": {},
   "outputs": [
    {
     "name": "stdout",
     "output_type": "stream",
     "text": [
      "[100, 20, 30, 3.14, True, 'abc']\n",
      "<class 'list'>\n",
      "100\n",
      "abc\n",
      "[100, 20, 30, 3.14]\n",
      "[100, 10, 20, 30, 20]\n",
      "True\n",
      "False\n",
      "5\n",
      "[10, 20, 20, 30, 100]\n",
      "True\n",
      "7\n",
      "['a', 'b', 'c', 'd', 'e', 'f', 'g']\n"
     ]
    }
   ],
   "source": [
    "### list\n",
    "\n",
    "a = [10, 20, 30, 3.14, True, 'abc']\n",
    "a[0] = 100 #mutable 수정가능\n",
    "print(a)\n",
    "print(type(a))\n",
    "print(a[0])\n",
    "print(a[-1])\n",
    "print(a[0:4])\n",
    "b = [100, 10, 20, 30, 20]\n",
    "print(b)\n",
    "# b.append(100)\n",
    "# print(b)\n",
    "# b.insert(1, 200)\n",
    "# b.extend([1,2,3])\n",
    "# b = b * 3\n",
    "# b.remove(20)\n",
    "# print(b.pop())\n",
    "# del(b[0])\n",
    "# print(b.count(100))\n",
    "print(20 in b)\n",
    "print(20 not in b)\n",
    "print(len(b))\n",
    "b.sort()\n",
    "print(b)\n",
    "\n",
    "s = \"abcdefg\"\n",
    "print(\"bc\" in s)\n",
    "print(len(s))\n",
    "ss = list(s)\n",
    "print(ss)"
   ]
  },
  {
   "cell_type": "code",
   "execution_count": 13,
   "metadata": {},
   "outputs": [
    {
     "name": "stdout",
     "output_type": "stream",
     "text": [
      "[10, 10]\n",
      "(10, 20, 30, 40)\n",
      "<class 'tuple'>\n",
      "10\n",
      "(10, 20, 30)\n",
      "100 200 300\n",
      "100 200 300\n",
      "(100, 200, 300)\n",
      "<class 'int'>\n",
      "<class 'tuple'>\n"
     ]
    }
   ],
   "source": [
    "### tuple\n",
    "\n",
    "a = [] # list()\n",
    "a.append(10)\n",
    "a.append(10)\n",
    "print(a)\n",
    "\n",
    "a = (10, 20, 30, 40)\n",
    "print(a)\n",
    "print(type(a))\n",
    "print(a[0])\n",
    "print(a[0:3])\n",
    "#a[0] = 100 # error, immutable\n",
    "\n",
    "i,j,k = (100,200,300) # unpacking\n",
    "print(i,j,k)\n",
    "\n",
    "i,j,k = [100,200,300]\n",
    "print(i,j,k)\n",
    "\n",
    "i = 100,200,300 # packing\n",
    "print(i)\n",
    "\n",
    "k = (10)\n",
    "print(type(k))\n",
    "\n",
    "l = (10,)\n",
    "print(type(l))\n"
   ]
  },
  {
   "cell_type": "code",
   "execution_count": 15,
   "metadata": {},
   "outputs": [
    {
     "name": "stdout",
     "output_type": "stream",
     "text": [
      "{100, 40, 200, 10, 20, 30}\n",
      "{1, 2, 3, 100, 40, 200, 10, 20, 30}\n",
      "<class 'set'>\n",
      "{10, 20, 30}\n",
      "{40, 50}\n",
      "{70, 40, 10, 80, 50, 20, 60, 30}\n",
      "{10, 20, 30}\n",
      "{80, 20, 70, 10, 60, 30}\n"
     ]
    },
    {
     "ename": "AttributeError",
     "evalue": "'frozenset' object has no attribute 'add'",
     "output_type": "error",
     "traceback": [
      "\u001b[1;31m---------------------------------------------------------------------------\u001b[0m",
      "\u001b[1;31mAttributeError\u001b[0m                            Traceback (most recent call last)",
      "\u001b[1;32m<ipython-input-15-05f1f8480e2b>\u001b[0m in \u001b[0;36m<module>\u001b[1;34m()\u001b[0m\n\u001b[0;32m     23\u001b[0m \u001b[1;33m\u001b[0m\u001b[0m\n\u001b[0;32m     24\u001b[0m \u001b[0ms4\u001b[0m \u001b[1;33m=\u001b[0m \u001b[0mfrozenset\u001b[0m\u001b[1;33m(\u001b[0m\u001b[1;33m{\u001b[0m\u001b[1;36m10\u001b[0m\u001b[1;33m,\u001b[0m\u001b[1;36m20\u001b[0m\u001b[1;33m,\u001b[0m\u001b[1;36m30\u001b[0m\u001b[1;33m}\u001b[0m\u001b[1;33m)\u001b[0m\u001b[1;33m\u001b[0m\u001b[0m\n\u001b[1;32m---> 25\u001b[1;33m \u001b[0ms4\u001b[0m\u001b[1;33m.\u001b[0m\u001b[0madd\u001b[0m\u001b[1;33m(\u001b[0m\u001b[1;36m40\u001b[0m\u001b[1;33m)\u001b[0m\u001b[1;33m\u001b[0m\u001b[0m\n\u001b[0m",
      "\u001b[1;31mAttributeError\u001b[0m: 'frozenset' object has no attribute 'add'"
     ]
    }
   ],
   "source": [
    "### set\n",
    "\n",
    "s = {10,20,30,100,20,40}\n",
    "s.add(200)\n",
    "#s.remove(300)\n",
    "s.discard(300)\n",
    "print(s)\n",
    "#s.pop()\n",
    "s.update({1,2,3})\n",
    "print(s)\n",
    "print(type(s))\n",
    "s1 = {10,20,30,40,50}\n",
    "s2 = {40,50,60,70,80}\n",
    "\n",
    "#s3 = {} # it is dictionary type, not set\n",
    "print(s3)\n",
    "print(s1&s2)\n",
    "print(s1|s2)\n",
    "print(s1-s2)\n",
    "print(s1^s2)\n",
    "\n",
    "s3 = set()\n",
    "s3.add(10)\n",
    "s3.add(20)\n",
    "s3.add(30)\n",
    "\n",
    "s4 = frozenset({10,20,30})\n",
    "s4.add(40) # error"
   ]
  },
  {
   "cell_type": "code",
   "execution_count": 35,
   "metadata": {},
   "outputs": [
    {
     "name": "stdout",
     "output_type": "stream",
     "text": [
      "{10: 'aa', 20: 'bb', 30: 'cc'}\n",
      "<class 'dict'>\n",
      "aa\n",
      "{10: 'AA', 20: 'bb', 30: 'cc'}\n",
      "{10: 'AA', 20: 'bb', 30: 'cc', 40: 'dd'}\n",
      "{10: 'aa', 20: 'BB', 30: 'cc'}\n",
      "aa\n",
      "ff\n",
      "dict_keys([10, 20, 30])\n",
      "dict_values(['aa', 'bb', 'cc'])\n",
      "dict_items([(10, 'aa'), (20, 'bb'), (30, 'cc')])\n",
      "aa\n",
      "{20: 'bb', 30: 'cc'}\n",
      "{30: 'cc'}\n"
     ]
    }
   ],
   "source": [
    "### dict\n",
    "\n",
    "d = {10:'aa', 20:'bb', 30:'cc'}\n",
    "print(d)\n",
    "print(type(d))\n",
    "print(d[10])\n",
    "d[10] = 'AA'\n",
    "print(d)\n",
    "d[40] = 'dd'\n",
    "print(d)\n",
    "\n",
    "e = {10:'aa', 20:'bb', 30:'cc', 20:'BB'}  #뒤에 같은 키가 있으면 override\n",
    "print(e)\n",
    "\n",
    "d = {10:'aa', 20:'bb', 30:'cc'}\n",
    "print(d.get(10, 'ff')) # 키가 없으면 디폴트 ff\n",
    "print(d.get(40, 'ff'))\n",
    "print(d.keys())\n",
    "print(d.values())\n",
    "print(d.items())\n",
    "\n",
    "d = {10:'aa', 20:'bb', 30:'cc'}\n",
    "print(d.pop(10))\n",
    "print(d)\n",
    "del(d[20])\n",
    "print(d)"
   ]
  },
  {
   "cell_type": "code",
   "execution_count": 41,
   "metadata": {},
   "outputs": [
    {
     "name": "stdout",
     "output_type": "stream",
     "text": [
      "10\n",
      "20\n",
      "array('i', [10, 20, 30])\n",
      "array('i', [10, 20, 30])\n",
      "a\n",
      "10\n",
      "20\n",
      "30\n"
     ]
    }
   ],
   "source": [
    "### array\n",
    "\n",
    "import collections\n",
    "import array\n",
    "\n",
    "ar = array.array('i')\n",
    "ar.append(10)\n",
    "ar.append(20)\n",
    "ar.append(30)\n",
    "print(ar[0])\n",
    "print(ar[1])\n",
    "print(ar)\n",
    "\n",
    "ar2 = array.array('i', [10,20,30])  # 'i' is typecode for integer\n",
    "print(ar2)\n",
    "\n",
    "ar1 = array.array('u', \"abcdefg\")\n",
    "print(ar1[0])\n",
    "\n",
    "ar = array.array('i', [10,20,30])\n",
    "for n in ar:\n",
    "    print(n)\n"
   ]
  },
  {
   "cell_type": "code",
   "execution_count": 49,
   "metadata": {},
   "outputs": [
    {
     "name": "stdout",
     "output_type": "stream",
     "text": [
      "OrderedDict([(10, 'aaa'), (20, 'bbb'), (30, 'ccc')])\n",
      "[10, 20, 30]\n",
      "odict_keys([10, 20, 30])\n",
      "odict_values(['aaa', 'bbb', 'ccc'])\n",
      "odict_items([(10, 'aaa'), (20, 'bbb'), (30, 'ccc')])\n",
      "OrderedDict([(10, 'aaa'), (20, 'bbb'), (30, 'ccc'), (15, 'aAA')])\n"
     ]
    }
   ],
   "source": [
    "### OrderedDict\n",
    "\n",
    "import collections\n",
    "d = collections.OrderedDict()\n",
    "d[10] = 'aaa'\n",
    "d[20] = 'bbb'\n",
    "d[30] = 'ccc'\n",
    "print(d)\n",
    "print(list(d))\n",
    "print(d.keys())\n",
    "print(d.values())\n",
    "print(d.items())\n",
    "d[15] = 'aAA'\n",
    "print(d)\n",
    "\n"
   ]
  },
  {
   "cell_type": "code",
   "execution_count": 61,
   "metadata": {},
   "outputs": [
    {
     "name": "stdout",
     "output_type": "stream",
     "text": [
      "홍길동 서울 01033334444\n",
      "홍길동 서울 01033334444\n",
      "OrderedDict([('name', '홍길동'), ('addr', '서울'), ('phone', '01033334444')])\n"
     ]
    }
   ],
   "source": [
    "### namedtuple\n",
    "\n",
    "import collections\n",
    "Student = collections.namedtuple('Student', 'name,addr,phone') # meta class: 클래스를 만들어주는 클래스\n",
    "std = Student('홍길동', '서울', '01033334444')\n",
    "print(std.name, std.addr, std.phone)\n",
    "print(std[0], std[1], std[2])\n",
    "print(std._asdict())"
   ]
  },
  {
   "cell_type": "code",
   "execution_count": 76,
   "metadata": {},
   "outputs": [
    {
     "name": "stdout",
     "output_type": "stream",
     "text": [
      "Counter({'bb': 3, 'aa': 2, 'cc': 1})\n",
      "Counter({'a': 3, 'e': 2, 't': 1, 'c': 1, 'k': 1, 'd': 1})\n",
      "[('a', 3), ('e', 2)]\n"
     ]
    }
   ],
   "source": [
    "### Counter\n",
    "\n",
    "import collections\n",
    "myList = ['aa', 'bb', 'bb', 'bb', 'aa', 'cc']\n",
    "cnt = collections.Counter(myList)\n",
    "print(cnt)\n",
    "s = \"aatackeed\"\n",
    "cnt = collections.Counter(s)\n",
    "print(cnt)\n",
    "print(cnt.most_common(2))"
   ]
  },
  {
   "cell_type": "code",
   "execution_count": 91,
   "metadata": {},
   "outputs": [
    {
     "name": "stdout",
     "output_type": "stream",
     "text": [
      "3\n",
      "deque([1, 2], maxlen=3)\n",
      "deque([1, 2, 4], maxlen=3)\n",
      "1\n",
      "deque([2, 4], maxlen=3)\n",
      "deque([4, 5, 6], maxlen=3)\n",
      "deque([7, 4, 5], maxlen=3)\n"
     ]
    }
   ],
   "source": [
    "### deque\n",
    "\n",
    "import collections\n",
    "q = collections.deque(maxlen=3)\n",
    "q.append(1)\n",
    "q.append(2)\n",
    "q.append(3)\n",
    "print(q.pop())\n",
    "print(q)\n",
    "q.append(4)\n",
    "print(q)\n",
    "print(q.popleft())\n",
    "print(q)\n",
    "q.append(5)\n",
    "q.append(6)\n",
    "print(q)\n",
    "q.appendleft(7)\n",
    "print(q)"
   ]
  },
  {
   "cell_type": "code",
   "execution_count": 103,
   "metadata": {},
   "outputs": [
    {
     "name": "stdout",
     "output_type": "stream",
     "text": [
      "abc\n",
      "<class 'str'>\n",
      "b'abc'\n",
      "<class 'bytes'>\n",
      "b'abc' b'abc'\n",
      "<class 'bytes'> <class 'bytes'>\n",
      "abc\n",
      "<class 'str'>\n",
      "97\n"
     ]
    },
    {
     "ename": "TypeError",
     "evalue": "'bytes' object does not support item assignment",
     "output_type": "error",
     "traceback": [
      "\u001b[1;31m---------------------------------------------------------------------------\u001b[0m",
      "\u001b[1;31mTypeError\u001b[0m                                 Traceback (most recent call last)",
      "\u001b[1;32m<ipython-input-103-96883c0a4519>\u001b[0m in \u001b[0;36m<module>\u001b[1;34m()\u001b[0m\n\u001b[0;32m     19\u001b[0m \u001b[0ms\u001b[0m \u001b[1;33m=\u001b[0m \u001b[1;34mb'abc'\u001b[0m\u001b[1;33m\u001b[0m\u001b[0m\n\u001b[0;32m     20\u001b[0m \u001b[0mprint\u001b[0m\u001b[1;33m(\u001b[0m\u001b[0ms\u001b[0m\u001b[1;33m[\u001b[0m\u001b[1;36m0\u001b[0m\u001b[1;33m]\u001b[0m\u001b[1;33m)\u001b[0m\u001b[1;33m\u001b[0m\u001b[0m\n\u001b[1;32m---> 21\u001b[1;33m \u001b[0ms\u001b[0m\u001b[1;33m[\u001b[0m\u001b[1;36m0\u001b[0m\u001b[1;33m]\u001b[0m \u001b[1;33m=\u001b[0m \u001b[1;36m98\u001b[0m\u001b[1;33m\u001b[0m\u001b[0m\n\u001b[0m",
      "\u001b[1;31mTypeError\u001b[0m: 'bytes' object does not support item assignment"
     ]
    }
   ],
   "source": [
    "#### bytes\n",
    "\n",
    "# 통신 프로그램 ---> (octet) 장치, 호스트 str --> bytes\n",
    "s1 = 'abc'\n",
    "print(s1)\n",
    "print(type(s1))\n",
    "s1 = s1.encode(encoding='utf-8')\n",
    "print(s1)\n",
    "print(type(s1))\n",
    "\n",
    "# 통신 프로그램 <--- (octet) 장치, 호스트 bytes --> str\n",
    "s = b'abc'\n",
    "print(s, s1)\n",
    "print(type(s), type(s1))\n",
    "s = s.decode(encoding='utf-8')\n",
    "print(s)\n",
    "print(type(s))\n",
    "\n"
   ]
  },
  {
   "cell_type": "code",
   "execution_count": 107,
   "metadata": {},
   "outputs": [
    {
     "name": "stdout",
     "output_type": "stream",
     "text": [
      "97\n",
      "97\n",
      "65\n",
      "bytearray(b'Abc')\n"
     ]
    }
   ],
   "source": [
    "### mutable bytes\n",
    "\n",
    "s = b'abc'\n",
    "print(s[0])\n",
    "#s[0] = 98  # error, immutable\n",
    "\n",
    "s = bytearray(b'abc')\n",
    "print(s[0])\n",
    "print(ord('A'))\n",
    "s[0] = ord('A')\n",
    "print(s)\n"
   ]
  },
  {
   "cell_type": "code",
   "execution_count": null,
   "metadata": {},
   "outputs": [],
   "source": []
  }
 ],
 "metadata": {
  "kernelspec": {
   "display_name": "Python 2",
   "language": "python",
   "name": "python2"
  },
  "language_info": {
   "codemirror_mode": {
    "name": "ipython",
    "version": 2
   },
   "file_extension": ".py",
   "mimetype": "text/x-python",
   "name": "python",
   "nbconvert_exporter": "python",
   "pygments_lexer": "ipython2",
   "version": "2.7.12"
  }
 },
 "nbformat": 4,
 "nbformat_minor": 2
}
