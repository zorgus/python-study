{
 "cells": [
  {
   "cell_type": "code",
   "execution_count": 3,
   "metadata": {},
   "outputs": [],
   "source": [
    "### 제어문"
   ]
  },
  {
   "cell_type": "code",
   "execution_count": 2,
   "metadata": {},
   "outputs": [
    {
     "name": "stdout",
     "output_type": "stream",
     "text": [
      "positive\n"
     ]
    }
   ],
   "source": [
    "### if\n",
    "\n",
    "a = 10\n",
    "if a > 0:\n",
    "    print('positive')\n",
    "elif a < 0:\n",
    "    print('negative')\n",
    "else:\n",
    "    print('zero')\n"
   ]
  },
  {
   "cell_type": "code",
   "execution_count": 7,
   "metadata": {},
   "outputs": [
    {
     "name": "stdout",
     "output_type": "stream",
     "text": [
      "0\n",
      "1\n",
      "2\n"
     ]
    }
   ],
   "source": [
    "### while\n",
    "\n",
    "a = 0\n",
    "while a < 5:\n",
    "    print(a)\n",
    "    a += 1\n",
    "    if a == 3:\n",
    "        break\n",
    "else:\n",
    "    print('else')\n",
    "\n"
   ]
  },
  {
   "cell_type": "code",
   "execution_count": 24,
   "metadata": {},
   "outputs": [
    {
     "name": "stdout",
     "output_type": "stream",
     "text": [
      "10\n",
      "20\n",
      "30\n",
      "a\n",
      "b\n",
      "c\n",
      "d\n",
      "10\n",
      "20\n",
      "30\n",
      "name Hong\n",
      "age 30\n",
      "addr Seoul\n",
      "Hong\n",
      "30\n",
      "Seoul\n",
      "name Hong\n",
      "age 30\n",
      "addr Seoul\n",
      "[0, 1, 2, 3, 4, 5, 6, 7, 8, 9]\n",
      "1\n",
      "2\n",
      "3\n",
      "4\n",
      "0\n",
      "1\n",
      "2\n",
      "3\n",
      "4\n"
     ]
    }
   ],
   "source": [
    "### for, range\n",
    "# for 변수명 in 반복가능데이터타입:\n",
    "\n",
    "myList = [10,20,30]\n",
    "for n in myList:\n",
    "    print(n)\n",
    "\n",
    "s = 'abcd'\n",
    "for n in s:\n",
    "    print(n)\n",
    "\n",
    "myT = (10,20,30)\n",
    "for n in myT:\n",
    "    print(n)\n",
    "\n",
    "myD = {'name':'Hong', 'age':30, 'addr':'Seoul'}\n",
    "for n in myD:\n",
    "    print(n, myD[n])\n",
    "\n",
    "for n in myD.values():\n",
    "    print(n)\n",
    "\n",
    "for k,v in myD.items():\n",
    "    print(k,v)\n",
    "\n",
    "r = range(0,10,1)\n",
    "print(list(r))\n",
    "\n",
    "for n in range(1,5):\n",
    "    print(n)\n",
    "    \n",
    "for n in range(5):\n",
    "    print(n)"
   ]
  },
  {
   "cell_type": "code",
   "execution_count": 29,
   "metadata": {},
   "outputs": [
    {
     "name": "stdout",
     "output_type": "stream",
     "text": [
      "[1, 2, 3, 4, 5, 6, 7, 8, 9, 10]\n",
      "[10, 20, 30, 40, 50, 60, 70, 80, 90, 100]\n",
      "[2, 4, 6, 8, 10]\n"
     ]
    }
   ],
   "source": [
    "### for 축약형, list for loop\n",
    "\n",
    "f = [ n for n in range(1,11)]\n",
    "print(f)\n",
    "\n",
    "f = [ n*10 for n in range(1,11)]\n",
    "print(f)\n",
    "\n",
    "f = [ n for n in range(1,11) if n%2==0 ]\n",
    "print(f)\n"
   ]
  },
  {
   "cell_type": "code",
   "execution_count": 31,
   "metadata": {},
   "outputs": [
    {
     "name": "stdout",
     "output_type": "stream",
     "text": [
      "num:10\n",
      "[1, 2, 5, 10]\n"
     ]
    }
   ],
   "source": [
    "### 하나의 정수를 입력받아 약수를 구하시오\n",
    "\n",
    "num = int(input(\"num:\"))\n",
    "r = [ n for n in range(1,num+1) if num%n==0 ]\n",
    "print(r)"
   ]
  },
  {
   "cell_type": "code",
   "execution_count": 34,
   "metadata": {},
   "outputs": [
    {
     "name": "stdout",
     "output_type": "stream",
     "text": [
      "{10: 'aaa', 20: 'bbb', 30: 'ccc'}\n",
      "{20: 'aaa', 40: 'bbb', 60: 'ccc'}\n",
      "<generator object <genexpr> at 0x0000021CDFBC21A8>\n"
     ]
    }
   ],
   "source": [
    "### dict for loop\n",
    "\n",
    "my = [(10,'aaa'),(20,'bbb'),(30,'ccc')]\n",
    "f = { k:v for k,v in my }\n",
    "print(f)\n",
    "\n",
    "my = [(10,'aaa'),(20,'bbb'),(30,'ccc')]\n",
    "f = { k*2:v for k,v in my }\n",
    "print(f)\n"
   ]
  },
  {
   "cell_type": "code",
   "execution_count": 45,
   "metadata": {},
   "outputs": [
    {
     "name": "stdout",
     "output_type": "stream",
     "text": [
      "<generator object <genexpr> at 0x0000021CDFC2CD58>\n",
      "10\n",
      "20\n",
      "30\n",
      "40\n",
      "50\n"
     ]
    },
    {
     "ename": "StopIteration",
     "evalue": "",
     "output_type": "error",
     "traceback": [
      "\u001b[1;31m---------------------------------------------------------------------------\u001b[0m",
      "\u001b[1;31mStopIteration\u001b[0m                             Traceback (most recent call last)",
      "\u001b[1;32m<ipython-input-45-02bb792d7642>\u001b[0m in \u001b[0;36m<module>\u001b[1;34m()\u001b[0m\n\u001b[0;32m      8\u001b[0m     \u001b[0mprint\u001b[0m\u001b[1;33m(\u001b[0m\u001b[0mn\u001b[0m\u001b[1;33m)\u001b[0m\u001b[1;33m\u001b[0m\u001b[0m\n\u001b[0;32m      9\u001b[0m \u001b[1;33m\u001b[0m\u001b[0m\n\u001b[1;32m---> 10\u001b[1;33m \u001b[0mprint\u001b[0m\u001b[1;33m(\u001b[0m\u001b[0mnext\u001b[0m\u001b[1;33m(\u001b[0m\u001b[0mf\u001b[0m\u001b[1;33m)\u001b[0m\u001b[1;33m)\u001b[0m\u001b[1;33m\u001b[0m\u001b[0m\n\u001b[0m",
      "\u001b[1;31mStopIteration\u001b[0m: "
     ]
    }
   ],
   "source": [
    "# generator, 함수가 불리때 계산(메모리 효율을 위해서)\n",
    "\n",
    "f = (n*10 for n in range(1,6))\n",
    "print(f)\n",
    "print(next(f))\n",
    "print(next(f))\n",
    "for n in f:\n",
    "    print(n)\n",
    "\n",
    "print(next(f))   # StopIteration 발생\n"
   ]
  }
 ],
 "metadata": {
  "kernelspec": {
   "display_name": "Python 3",
   "language": "python",
   "name": "python3"
  },
  "language_info": {
   "codemirror_mode": {
    "name": "ipython",
    "version": 3
   },
   "file_extension": ".py",
   "mimetype": "text/x-python",
   "name": "python",
   "nbconvert_exporter": "python",
   "pygments_lexer": "ipython3",
   "version": "3.6.2"
  }
 },
 "nbformat": 4,
 "nbformat_minor": 2
}
