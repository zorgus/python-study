{
 "cells": [
  {
   "cell_type": "code",
   "execution_count": 24,
   "metadata": {},
   "outputs": [
    {
     "name": "stdout",
     "output_type": "stream",
     "text": [
      "init call 1848985650288 10 20\n",
      "1848985650288\n",
      "self 1848985650288\n",
      "10 20\n",
      "1848985650288\n",
      "self 1848985650288\n",
      "100 200\n"
     ]
    }
   ],
   "source": [
    "### class 생성자, 멤버함수\n",
    "\n",
    "class Test:\n",
    "    def __init__(self, a, b):\n",
    "        self.a = a\n",
    "        self.b = b\n",
    "        print('init call', id(self), self.a, self.b)\n",
    "    def show(self):\n",
    "        print(\"self\", id(self))\n",
    "        print(self.a, self.b)\n",
    "    def setData(self, a, b):\n",
    "        self.a = a\n",
    "        self.b = b\n",
    "\n",
    "obj = Test(10, 20)\n",
    "print(id(obj))\n",
    "obj.show()\n",
    "obj.setData(100, 200)\n",
    "print(id(obj))\n",
    "obj.show()\n"
   ]
  },
  {
   "cell_type": "code",
   "execution_count": 40,
   "metadata": {},
   "outputs": [
    {
     "name": "stdout",
     "output_type": "stream",
     "text": [
      "init call 1848986330280\n",
      "self 1848986330280\n",
      "10 20\n",
      "hello\n",
      "init call 1848986329328\n",
      "dest call 1848986330280\n",
      "dest call 1848986319560\n",
      "self 1848986329328\n",
      "100 200\n",
      "hello\n",
      "fn call\n",
      "init call 1848986371128\n",
      "self 1848986371128\n",
      "0 0\n",
      "fn exit\n",
      "dest call 1848986371128\n",
      "hello\n",
      "fn call\n",
      "init call 1848986372584\n",
      "self 1848986372584\n",
      "0 0\n",
      "fn exit\n",
      "dest call 1848986330504\n",
      "hello\n",
      "dest call 1848985747584\n",
      "init call 1848985747584\n",
      "self 1848985747584\n",
      "0 0\n",
      "self 1848985747584\n",
      "0 0\n",
      "hello\n"
     ]
    }
   ],
   "source": [
    "### 소멸자\n",
    "# RC가 0이 되면 소멸자가 불림.\n",
    "\n",
    "class Test:\n",
    "    def __init__(self):\n",
    "        print('init call', id(self))\n",
    "        self.a = 0\n",
    "        self.b = 0\n",
    "    def __del__(self):\n",
    "        print(\"dest call\", id(self))\n",
    "    def show(self):\n",
    "        print(\"self\", id(self))\n",
    "        print(self.a, self.b)\n",
    "    def setData(self, a, b):\n",
    "        self.a = a\n",
    "        self.b = b\n",
    "\n",
    "obj = Test()\n",
    "obj.setData(10,20)\n",
    "obj.show()\n",
    "print('hello')\n",
    "obj = Test()\n",
    "obj1 = obj\n",
    "obj.setData(100,200)\n",
    "obj.show()\n",
    "del(obj)\n",
    "print('hello')\n",
    "\n",
    "def fn():\n",
    "    print('fn call')\n",
    "    obj = Test()\n",
    "    obj.show()\n",
    "    print('fn exit')\n",
    "    return obj\n",
    "\n",
    "fn()\n",
    "print('hello')\n",
    "\n",
    "rst = fn()\n",
    "print('hello')\n",
    "\n",
    "data = []\n",
    "def fn2():\n",
    "    obj = Test()\n",
    "    obj.show()\n",
    "    data.append(obj)\n",
    "\n",
    "fn2()\n",
    "data[0].show()\n",
    "print('hello')\n"
   ]
  },
  {
   "cell_type": "code",
   "execution_count": 58,
   "metadata": {},
   "outputs": [
    {
     "name": "stdout",
     "output_type": "stream",
     "text": [
      "100 100\n",
      "100 1000\n",
      "Test\n",
      "100\n",
      "{'a': 10, 'b': 20, 'st': 1000}\n",
      "100\n",
      "stFn\n",
      "1000\n",
      "class method\n",
      "10000\n"
     ]
    }
   ],
   "source": [
    "### 정적 변수 / 정적 함수 / 클래스 메소드\n",
    "\n",
    "class Test:\n",
    "    st = 100               # 정적변수\n",
    "    def __init__(self):\n",
    "        self.a = 10\n",
    "        self.b = 20\n",
    "    \n",
    "    def inFn(self):        # instance 함수\n",
    "        print('inFn')\n",
    "    \n",
    "    @staticmethod          # 없어도 됨\n",
    "    def stFn():            # 정적함수\n",
    "        Test.st = 1000\n",
    "        print('stFn')\n",
    "    \n",
    "    @classmethod\n",
    "    def cFn(cls):          # instance가 아닌 class를 인자로 받음\n",
    "        cls.st = 10000\n",
    "        print('class method')\n",
    "\n",
    "obj = Test()\n",
    "print(Test.st, obj.st)\n",
    "obj.st = 1000              # 정적변수가 아닌 멤버변수가 생성됨.\n",
    "print(Test.st, obj.st)\n",
    "print(type(obj).__name__)\n",
    "print(type(obj).st)\n",
    "print(obj.__dict__)\n",
    "obj1 = Test()\n",
    "print(obj1.st)\n",
    "\n",
    "Test.stFn()   # 정적함수 호출\n",
    "print(Test.st)\n",
    "# obj.stFn()  # error!\n",
    "# Test.inFn() # error!\n",
    "\n",
    "Test.cFn()\n",
    "print(Test.st)"
   ]
  },
  {
   "cell_type": "code",
   "execution_count": 62,
   "metadata": {},
   "outputs": [
    {
     "name": "stdout",
     "output_type": "stream",
     "text": [
      "28.26\n",
      "12\n",
      "28.26\n",
      "12\n"
     ]
    }
   ],
   "source": [
    "### static method 예제\n",
    "\n",
    "class Math:\n",
    "    def circle(self,r):           #instance method로 할 이유가 없음 (계산만 하기 때문)\n",
    "        return r**2*3.14\n",
    "    def rect(self, h, w):\n",
    "        return h*w\n",
    "\n",
    "math = Math()\n",
    "print(math.circle(3))\n",
    "print(math.rect(3,4))\n",
    "\n",
    "class Math2:\n",
    "    @staticmethod\n",
    "    def circle(r):\n",
    "        return r**2*3.14\n",
    "    @staticmethod\n",
    "    def rect(h, w):\n",
    "        return h*w\n",
    "print(Math2.circle(3))\n",
    "print(Math2.rect(3,4))\n"
   ]
  },
  {
   "cell_type": "code",
   "execution_count": 61,
   "metadata": {},
   "outputs": [
    {
     "name": "stdout",
     "output_type": "stream",
     "text": [
      "[<__main__.Student object at 0x000001AE80238208>, <__main__.Student object at 0x000001AE802386D8>]\n"
     ]
    }
   ],
   "source": [
    "### instance method 사용예\n",
    "\n",
    "sdata = []\n",
    "class Student:\n",
    "    def __init__(self, name, age):\n",
    "        self.name = name\n",
    "        self.age = age\n",
    "\n",
    "sdata.append(Student('홍길동', 20))\n",
    "sdata.append(Student('이순신', 30))\n",
    "print(sdata)"
   ]
  },
  {
   "cell_type": "code",
   "execution_count": 75,
   "metadata": {},
   "outputs": [
    {
     "name": "stdout",
     "output_type": "stream",
     "text": [
      "aaa 30\n"
     ]
    }
   ],
   "source": [
    "### class 멤버 제한: __dict__, __slots__\n",
    "\n",
    "class A:\n",
    "    __slots__=['name', 'age']   # __dict__를 생성하지 않고 멤버변수를 리스트에 있는것으로 고정\n",
    "    def __init__(self):\n",
    "        self.name = \"aaa\"\n",
    "        self.age = 30\n",
    "\n",
    "obj = A()\n",
    "print(obj.name, obj.age)\n",
    "# obj.c = 10                       # error \n"
   ]
  },
  {
   "cell_type": "code",
   "execution_count": 83,
   "metadata": {},
   "outputs": [
    {
     "name": "stdout",
     "output_type": "stream",
     "text": [
      "new call\n",
      "init call\n",
      "10 20\n"
     ]
    }
   ],
   "source": [
    "### __new__ method\n",
    "\n",
    "class B:                                 # default로 object class를 상속받음\n",
    "    def __new__(cls):\n",
    "        print('new call')\n",
    "        return object.__new__(cls)\n",
    "    \n",
    "    def __init__(self):\n",
    "        print('init call')\n",
    "        self.a = 10\n",
    "        self.b = 20\n",
    "        \n",
    "# bObj = B()는 아래 두 단계를 거침\n",
    "# 1. bObj = B.__new__(B)\n",
    "# 2. B.__init__(bObj)\n",
    "\n",
    "bObj = B.__new__(B)\n",
    "B.__init__(bObj)\n",
    "print(bObj.a, bObj.b)"
   ]
  },
  {
   "cell_type": "code",
   "execution_count": 115,
   "metadata": {},
   "outputs": [
    {
     "name": "stdout",
     "output_type": "stream",
     "text": [
      "1848985652976\n",
      "1848985652976\n"
     ]
    }
   ],
   "source": [
    "### 단일객체 (Singletone)\n",
    "\n",
    "class MySingle:\n",
    "    __instance = None\n",
    "    def __new__(cls):\n",
    "        if not cls.__instance:\n",
    "            cls.__instance = object.__new__(cls)\n",
    "        return cls.__instance\n",
    "    def __init__(self):\n",
    "        self.a = 10\n",
    "        self.b = 20\n",
    "    \n",
    "obj = MySingle()\n",
    "print(id(obj))\n",
    "obj1 = MySingle()\n",
    "print(id(obj1))\n"
   ]
  },
  {
   "cell_type": "code",
   "execution_count": 121,
   "metadata": {
    "scrolled": true
   },
   "outputs": [
    {
     "name": "stdout",
     "output_type": "stream",
     "text": [
      "홍길동\n"
     ]
    }
   ],
   "source": [
    "### 상속\n",
    "# 다중상속은 comma(,)로 구분\n",
    "\n",
    "class People:\n",
    "    def __init__(self, name, age):\n",
    "        self.name = name\n",
    "        self.age = age\n",
    "    def getName(self):\n",
    "        return self.name\n",
    "\n",
    "class Student(People):\n",
    "    def __init__(self, name, age, stdnum):\n",
    "        super().__init__(name, age)\n",
    "        self.stdnum = stdnum\n",
    "\n",
    "std = Student(\"홍길동\", 30, \"20170303\")\n",
    "print(std.getName())"
   ]
  },
  {
   "cell_type": "code",
   "execution_count": null,
   "metadata": {},
   "outputs": [],
   "source": [
    "### 주소록\n",
    "\n",
    "class Address:\n",
    "    def __init__(self):\n",
    "        self.data = []\n",
    "        \n",
    "    def inputData(self):\n",
    "        while True:\n",
    "            name = input(\"이름:\")\n",
    "            age = input(\"나이:\")\n",
    "            self.data.append((name,age))\n",
    "            "
   ]
  },
  {
   "cell_type": "code",
   "execution_count": null,
   "metadata": {},
   "outputs": [],
   "source": []
  }
 ],
 "metadata": {
  "kernelspec": {
   "display_name": "Python 3",
   "language": "python",
   "name": "python3"
  },
  "language_info": {
   "codemirror_mode": {
    "name": "ipython",
    "version": 3
   },
   "file_extension": ".py",
   "mimetype": "text/x-python",
   "name": "python",
   "nbconvert_exporter": "python",
   "pygments_lexer": "ipython3",
   "version": "3.5.2"
  }
 },
 "nbformat": 4,
 "nbformat_minor": 2
}
