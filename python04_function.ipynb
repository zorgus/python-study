{
 "cells": [
  {
   "cell_type": "code",
   "execution_count": 2,
   "metadata": {},
   "outputs": [],
   "source": [
    "### 함수"
   ]
  },
  {
   "cell_type": "code",
   "execution_count": 15,
   "metadata": {
    "scrolled": true
   },
   "outputs": [
    {
     "name": "stdout",
     "output_type": "stream",
     "text": [
      "hello\n",
      "korea\n",
      "hello\n",
      "korea\n",
      "30\n",
      "(10, 20)\n",
      "314.0 600\n",
      "[10, 20, 30]\n",
      "10 20\n",
      "200 100\n"
     ]
    }
   ],
   "source": [
    "### \n",
    "\n",
    "def fn():\n",
    "    print('hello')\n",
    "    print('korea')\n",
    "fn()\n",
    "fn()\n",
    "\n",
    "def hap(a,b):\n",
    "    return a+b\n",
    "rst = hap(10,20)\n",
    "print(rst)\n",
    "\n",
    "def fn1():\n",
    "    return 10,20\n",
    "rst = fn1()\n",
    "print(rst)\n",
    "\n",
    "def shape(r,h,w):\n",
    "    return r**2*3.14,h*w\n",
    "c,r = shape(10, 20, 30)\n",
    "print(c,r)\n",
    "\n",
    "def fn2():\n",
    "    myL = [10,20,30]\n",
    "    return myL\n",
    "result = fn2()\n",
    "print(result)\n",
    "\n",
    "def fn3(a,b):\n",
    "    print(a,b)\n",
    "fn3(10,20)\n",
    "fn3(b=100,a=200)    # 명시적 인자전달"
   ]
  },
  {
   "cell_type": "code",
   "execution_count": 26,
   "metadata": {},
   "outputs": [
    {
     "name": "stdout",
     "output_type": "stream",
     "text": [
      "a=        10 b=3.14 c=abc\n",
      "홍길동 20\n"
     ]
    }
   ],
   "source": [
    "### 문자열 format\n",
    "\n",
    "a = 10\n",
    "b = 3.14\n",
    "c = \"abc\"\n",
    "s = \"a=%10d b=%.2f c=%s\" % (a,b,c)\n",
    "print(s)\n",
    "\n",
    "d = {'name':'홍길동', 'age':20}\n",
    "s1 = \"%(name)s %(age)d\" %d         # dictionary format\n",
    "print(s1)\n"
   ]
  },
  {
   "cell_type": "code",
   "execution_count": 39,
   "metadata": {},
   "outputs": [
    {
     "name": "stdout",
     "output_type": "stream",
     "text": [
      "100\n",
      "10\n",
      "[100]\n"
     ]
    }
   ],
   "source": [
    "### 변수 scope\n",
    "\n",
    "g = 10\n",
    "myList = []\n",
    "\n",
    "def fn():\n",
    "    g = 100\n",
    "    print(g)\n",
    "    #myList = []\n",
    "    myList.append(100)\n",
    "    \n",
    "fn()\n",
    "print(g)\n",
    "print(myList)"
   ]
  },
  {
   "cell_type": "code",
   "execution_count": 3,
   "metadata": {
    "scrolled": false
   },
   "outputs": [
    {
     "name": "stdout",
     "output_type": "stream",
     "text": [
      "10 20 30\n",
      "100 20 30\n",
      "100 200 30\n",
      "100 200 300\n",
      "10 300 30\n",
      "10 20\n"
     ]
    }
   ],
   "source": [
    "### 디폴트 인자\n",
    "\n",
    "def fn(a=10, b=20, c=30):\n",
    "    print(a,b,c)\n",
    "\n",
    "fn()\n",
    "fn(100)\n",
    "fn(100,200)\n",
    "fn(100,200,300)\n",
    "fn(b=300)\n",
    "\n",
    "print(10,20, sep=\" \")\n"
   ]
  },
  {
   "cell_type": "code",
   "execution_count": 10,
   "metadata": {},
   "outputs": [
    {
     "name": "stdout",
     "output_type": "stream",
     "text": [
      "(10, 20, 30)\n",
      "('aa', 'bb')\n",
      "(1,)\n",
      "((1, 2, 3),)\n",
      "(1, 2, 3)\n",
      "[3.14, 12.56, 28.26, 50.24, 78.5]\n"
     ]
    }
   ],
   "source": [
    "### 가변인자\n",
    "### 넘어온 인자들은 tuple 형태가 됨\n",
    "def fn1(*arg):\n",
    "    print(arg)\n",
    "#     for n in arg:\n",
    "#         print(n)\n",
    "    \n",
    "fn1(10,20,30)\n",
    "fn1(\"aa\", \"bb\")\n",
    "fn1(1)\n",
    "fn1((1,2,3))\n",
    "fn1(*(1,2,3))   # tuple로 변환되지 않도록 강제함\n",
    "\n"
   ]
  },
  {
   "cell_type": "code",
   "execution_count": 14,
   "metadata": {},
   "outputs": [
    {
     "name": "stdout",
     "output_type": "stream",
     "text": [
      "[3.14, 12.56, 28.26, 50.24, 78.5, 113.04, 153.86, 200.96, 254.34]\n"
     ]
    }
   ],
   "source": [
    "### 가변인자예제 원의 면접\n",
    "\n",
    "def circles(*a):\n",
    "    cList = []\n",
    "    for r in a:\n",
    "        cList.append(r**2*3.14)\n",
    "    return cList\n",
    "\n",
    "result = circles(*range(1,10))\n",
    "print(result)"
   ]
  },
  {
   "cell_type": "code",
   "execution_count": 35,
   "metadata": {},
   "outputs": [
    {
     "name": "stdout",
     "output_type": "stream",
     "text": [
      "{'aa': 10, 'bb': 20, 'cc': 30}\n",
      "{'name': '홍길동', 'age': 30, 'addr': '서울시'}\n",
      "{'aaa': 100, 'bbb': 200, 'ccc': 300}\n",
      "100 200 300\n",
      "100 200 300\n"
     ]
    }
   ],
   "source": [
    "### 정의되지 않은 인자\n",
    "\n",
    "def fn2(**arg):\n",
    "    # dictionary가 전달됨\n",
    "    print(arg)\n",
    "    \n",
    "fn2(aa=10, bb=20, cc=30)\n",
    "fn2(name=\"홍길동\", age=30, addr=\"서울시\")\n",
    "fn2(**{'aaa':100, 'bbb':200, 'ccc':300})\n",
    "\n",
    "# 일반함수도 dictionary로 전달가능\n",
    "def fn(a=10, b=20, c=30):\n",
    "    print(a,b,c)\n",
    "fn(**{'a':100, 'b':200, 'c':300})\n",
    "fn(*(100,200,300))\n"
   ]
  },
  {
   "cell_type": "code",
   "execution_count": 34,
   "metadata": {},
   "outputs": [
    {
     "name": "stdout",
     "output_type": "stream",
     "text": [
      "a=        10 b=3.1        c=       aaa\n",
      "aa=100 bb=200 cc=300\n",
      "이름:홍길동 나이:20\n"
     ]
    }
   ],
   "source": [
    "### format\n",
    "\n",
    "a = 10\n",
    "b = 3.14\n",
    "c = \"aaa\"\n",
    "s = 'a={0:10} b={1:<10.1f} c={2:>10}'\n",
    "print(s.format(a,b,c))\n",
    "\n",
    "# 정의되지 않는 인자로 전달 가능\n",
    "s1 = 'aa={aa} bb={bb} cc={cc}'\n",
    "print(s1.format(aa=100,bb=200,cc=300))\n",
    "\n",
    "# dictionay로 전달가능 (**붙여야함)\n",
    "d={'name':'홍길동', 'age':20}\n",
    "print('이름:{name} 나이:{age}'.format(**d))"
   ]
  },
  {
   "cell_type": "code",
   "execution_count": 55,
   "metadata": {},
   "outputs": [
    {
     "name": "stdout",
     "output_type": "stream",
     "text": [
      "2134009092024 2134009092024\n",
      "fn call\n",
      "fn call\n",
      "fn1 call\n",
      "fn call\n",
      "fn1 call\n",
      "hello\n",
      "hi\n",
      "world\n",
      "hi\n",
      "90\n"
     ]
    }
   ],
   "source": [
    "### 일급함수\n",
    "# 함수할당\n",
    "# 함수를 인자로\n",
    "# 함수를 리턴\n",
    "# 함수안에 함수포함\n",
    "\n",
    "def fn():\n",
    "    print(\"fn call\")\n",
    "# 함수할당\n",
    "my = fn               # shallow copy\n",
    "print(id(my), id(fn))\n",
    "my()\n",
    "\n",
    "def fn1():\n",
    "    print(\"fn1 call\")\n",
    "    \n",
    "myD = {0:fn, 1:fn1}\n",
    "myD[0]()\n",
    "myD[1]()\n",
    "\n",
    "def fn2(a):\n",
    "    a()\n",
    "def fn3():\n",
    "    return fn1\n",
    "\n",
    "# 함수를 인자로\n",
    "fn2(fn)\n",
    "\n",
    "# 함수를 리턴\n",
    "fn3()()\n",
    "\n",
    "# 함수안에 함수를 포함\n",
    "def print_msg(msg):\n",
    "    tt = 'hi'\n",
    "    def myprint():\n",
    "        print(msg)     # closer: msg 변수를 소멸하지 않음.\n",
    "        print(tt)\n",
    "    return myprint\n",
    "aa = print_msg('hello')\n",
    "bb = print_msg('world')\n",
    "\n",
    "aa()                   # local변수인 msg가 소멸되지 않음\n",
    "bb()\n",
    "\n",
    "# closer를 이용해 decorator 만듬\n",
    "def multhree(fn):\n",
    "    def deco(a,b):\n",
    "        return fn(a,b)*3\n",
    "    return deco\n",
    "\n",
    "@multhree   # decorator: 1.multhree(add), 2.deco(10,20), 3. add(10,20)\n",
    "def add(a,b):\n",
    "    return a+b\n",
    "\n",
    "print(add(10,20))\n",
    "\n",
    "# rst = multhree(add)\n",
    "# print(rst(10,20))\n"
   ]
  },
  {
   "cell_type": "code",
   "execution_count": 45,
   "metadata": {},
   "outputs": [
    {
     "name": "stdout",
     "output_type": "stream",
     "text": [
      "점수:34\n",
      "F\n"
     ]
    }
   ],
   "source": [
    "### 점수를 입력받아 학점 출력\n",
    "\n",
    "score = int(input(\"점수:\"))\n",
    "s = {10: 'A', 9: 'A', 8: 'B', 7:'C', 6:'D'}\n",
    "print(s.get(score//10, 'F'))"
   ]
  },
  {
   "cell_type": "code",
   "execution_count": 57,
   "metadata": {},
   "outputs": [
    {
     "name": "stdout",
     "output_type": "stream",
     "text": [
      "113.04\n",
      "113.04\n"
     ]
    }
   ],
   "source": [
    "### 원의 면적\n",
    "### 원기둥의 부피\n",
    "### 원뿔의 부티\n",
    "\n",
    "def cylinder(f):\n",
    "    def deco(r,h):\n",
    "        return f(r)*h\n",
    "    return deco\n",
    "\n",
    "@cylinder\n",
    "def circle(r):\n",
    "    return r**2*3.14\n",
    "\n",
    "print(circle(3,4))"
   ]
  },
  {
   "cell_type": "code",
   "execution_count": 77,
   "metadata": {
    "collapsed": true
   },
   "outputs": [
    {
     "name": "stdout",
     "output_type": "stream",
     "text": [
      "30\n",
      "hello\n",
      "40\n",
      "80\n",
      "80\n",
      "40\n",
      "80\n",
      "80\n",
      "(80, 50)\n",
      "{'kor': 80, 'eng': 50}\n",
      "40\n"
     ]
    }
   ],
   "source": [
    "### lamda (익명함수)\n",
    "\n",
    "# def add(a,b):\n",
    "#     return a+b\n",
    "add = lambda a,b: a+b\n",
    "rst = add(10,20)\n",
    "print(rst)\n",
    "\n",
    "myprint = lambda : print(\"hello\")\n",
    "myprint()\n",
    "\n",
    "# list에서 max값 구하기\n",
    "myList = [10,20,30,40]\n",
    "def mymax(arg):\n",
    "    maxi = None\n",
    "    for i in arg:\n",
    "        if maxi == None or i > maxi:\n",
    "            maxi = i\n",
    "    return maxi\n",
    "rst = mymax(myList)\n",
    "print(rst)\n",
    "\n",
    "# dictionay에서 max값 구하기\n",
    "jumsu = [{'kor':50,'eng':60},\n",
    "          {'kor':80,'eng':50},\n",
    "          {'kor':40,'eng':90}\n",
    "            ]\n",
    "def mymax(arg):\n",
    "    maxi = None\n",
    "    for i in arg:\n",
    "        if maxi == None or i['kor'] > maxi['kor']:\n",
    "            maxi = i\n",
    "    return maxi\n",
    "rst = mymax(jumsu)\n",
    "print(rst['kor'])\n",
    "\n",
    "# tuple에서 max값 찾기\n",
    "jumsu1 = [(50,60),(80,50), (40,90)]\n",
    "def mymax(arg):\n",
    "    maxi = None\n",
    "    for i in arg:\n",
    "        if maxi == None or i[0] > maxi[0]:\n",
    "            maxi = i\n",
    "    return maxi\n",
    "rst = mymax(jumsu1)\n",
    "print(rst[0])\n",
    "\n",
    "## open/close 기법\n",
    "## open: 확장가능 (함수 포인터)\n",
    "## close: 기존코드 이용\n",
    "def fnNum(i):\n",
    "    return i\n",
    "def fnDic(i):\n",
    "    return i['kor']\n",
    "def fnTup(i):\n",
    "    return i[0]\n",
    "\n",
    "def mymax(arg, key):\n",
    "    maxi = None\n",
    "    for i in arg:\n",
    "#         if maxi == None or i[0] > maxi[0]:\n",
    "          if maxi == None or key(i)> key(maxi):\n",
    "            maxi = i\n",
    "    return maxi\n",
    "\n",
    "rst = mymax(myList, fnNum)\n",
    "print(rst)\n",
    "rst = mymax(jumsu, fnDic)\n",
    "print(fnDic(rst))\n",
    "rst = mymax(jumsu1, fnTup)\n",
    "print(fnTup(rst))\n",
    "\n",
    "## lambda 이용\n",
    "rst = mymax(jumsu1, lambda i:i[0])\n",
    "print(rst)\n",
    "rst = mymax(jumsu, lambda i:i['kor'])\n",
    "print(rst)\n",
    "rst = mymax(myList, lambda i:i)\n",
    "print(rst)\n"
   ]
  },
  {
   "cell_type": "code",
   "execution_count": 110,
   "metadata": {
    "collapsed": true
   },
   "outputs": [
    {
     "name": "stdout",
     "output_type": "stream",
     "text": [
      "40\n",
      "{'kor': 80, 'eng': 50}\n",
      "{'kor': 40, 'eng': 90}\n",
      "(80, 50)\n",
      "10\n",
      "{'kor': 40, 'eng': 90}\n",
      "{'kor': 80, 'eng': 50}\n",
      "(40, 90)\n",
      "[30, 40]\n",
      "[{'kor': 50, 'eng': 60}, {'kor': 80, 'eng': 50}]\n",
      "['김철수', '김철수1']\n",
      "[100, 400, 900, 1600]\n",
      "[10, 40, 90, 160]\n",
      "100\n",
      "170\n",
      "200\n",
      "170\n",
      "25.0\n",
      "25\n",
      "56.666666666666664\n",
      "66.66666666666667\n",
      "56.666666666666664\n",
      "12.909944487358056\n",
      "20.81665999466133\n"
     ]
    }
   ],
   "source": [
    "### lambda 이용하는 내장함수들\n",
    "\n",
    "myList = [10,20,30,40]\n",
    "jumsu = [{'kor':50,'eng':60},\n",
    "          {'kor':80,'eng':50},\n",
    "          {'kor':40,'eng':90}\n",
    "        ]\n",
    "jumsu1 = [(50,60),(80,50), (40,90)]\n",
    "\n",
    "# max\n",
    "print(max(myList))\n",
    "print(max(jumsu, key=lambda k:k['kor']))\n",
    "print(max(jumsu, key=lambda k:k['eng']))\n",
    "print(max(jumsu1, key=lambda k:k[0]))\n",
    "\n",
    "# min\n",
    "print(min(myList))\n",
    "print(min(jumsu, key=lambda k:k['kor']))\n",
    "print(min(jumsu, key=lambda k:k['eng']))\n",
    "print(min(jumsu1, key=lambda k:k[0]))\n",
    "\n",
    "# filter (filter object는 generator임)\n",
    "f = filter(lambda x: x>20, myList)\n",
    "print(list(f))\n",
    "f = filter(lambda x: x['kor']>=50, jumsu)\n",
    "print(list(f))\n",
    "\n",
    "myData = ['김철수', '김철수1', '홍길동', '이순신']\n",
    "f = filter(lambda x: '철수' in x, myData)\n",
    "print(list(f))\n",
    "\n",
    "# map (map object는 generator임)\n",
    "m = map(lambda x: x*x, myList)\n",
    "print(list(m))\n",
    "\n",
    "myList1 = [1,2,3,4]\n",
    "m = map(lambda x,y: x*y, myList, myList1)\n",
    "print(list(m))\n",
    "\n"
   ]
  },
  {
   "cell_type": "code",
   "execution_count": 115,
   "metadata": {
    "scrolled": true
   },
   "outputs": [
    {
     "name": "stdout",
     "output_type": "stream",
     "text": [
      "280\n",
      "170\n",
      "200\n",
      "170\n",
      "70.0\n",
      "70\n",
      "56.666666666666664\n",
      "66.66666666666667\n",
      "56.666666666666664\n",
      "87.55950357709132\n",
      "20.81665999466133\n",
      "[200, 40, 30, 10]\n",
      "[{'kor': 80, 'eng': 50}, {'kor': 50, 'eng': 60}, {'kor': 40, 'eng': 90}]\n"
     ]
    }
   ],
   "source": [
    "### 통계관련\n",
    "\n",
    "myList = [10,200,30,40]\n",
    "jumsu = [{'kor':50,'eng':60},\n",
    "          {'kor':80,'eng':50},\n",
    "          {'kor':40,'eng':90}\n",
    "        ]\n",
    "jumsu1 = [(50,60),(80,50), (40,90)]\n",
    "\n",
    "# sum\n",
    "print(sum(myList))\n",
    "print(sum([n['kor'] for n in jumsu]))\n",
    "print(sum([n['eng'] for n in jumsu]))\n",
    "print(sum([n[0] for n in jumsu1]))\n",
    "\n",
    "# 평균, 표준편차,...\n",
    "print(sum(myList) / len(myList))\n",
    "from statistics import mean, median, stdev\n",
    "print(mean(myList))\n",
    "print(mean([n['kor'] for n in jumsu]))\n",
    "print(mean([n['eng'] for n in jumsu]))\n",
    "print(mean([n[0] for n in jumsu1]))\n",
    "\n",
    "print(stdev(myList))\n",
    "print(stdev([n['kor'] for n in jumsu]))\n",
    "\n",
    "# 정렬\n",
    "print(sorted(myList, reverse=True))\n",
    "print( sorted(jumsu, key=lambda k:k['kor'], reverse=True))"
   ]
  },
  {
   "cell_type": "code",
   "execution_count": 128,
   "metadata": {
    "scrolled": false
   },
   "outputs": [
    {
     "name": "stdout",
     "output_type": "stream",
     "text": [
      "<generator object fn at 0x000001F0DCFEBC50>\n",
      "[10, 20, 30]\n",
      "1 2 4 5 8 10 16 20 25 32 40 50 64 80 100 125 128 160 200 250 256 320 400 500 625 640 800 1000 1250 1280 1600 2000 2500 3125 3200 4000 5000 6250 6400 8000 10000 12500 15625 16000 20000 25000 31250 32000 40000 50000 62500 78125 80000 100000 125000 156250 160000 200000 250000 312500 390625 400000 500000 625000 781250 800000 1000000 1250000 1562500 2000000 2500000 3125000 4000000 5000000 6250000 10000000 12500000 20000000 25000000 50000000 100000000 "
     ]
    }
   ],
   "source": [
    "### Generator, yield\n",
    "# ( n for n구문 ) --> generator\n",
    "\n",
    "def fn():\n",
    "    yield 10\n",
    "    yield 20\n",
    "    yield 30\n",
    "    \n",
    "g = fn()\n",
    "print(g)\n",
    "# for n in g:\n",
    "#     print(n)\n",
    "print(list(g))\n",
    "\n",
    "\n",
    "# 약수\n",
    "def yaksu(num):\n",
    "    for n in range(1, num+1):\n",
    "        if num%n == 0:\n",
    "            yield n\n",
    "g = yaksu(100000000)\n",
    "for n in g:\n",
    "    print(n, end=' ')"
   ]
  },
  {
   "cell_type": "code",
   "execution_count": 131,
   "metadata": {},
   "outputs": [
    {
     "name": "stdout",
     "output_type": "stream",
     "text": [
      "[1934.0, 2901.0, 3868.0, 4835.0, 5802.0]\n"
     ]
    }
   ],
   "source": [
    "### 3.3%를 제외한 실수령액 구하기\n",
    "\n",
    "m = [2000, 3000, 4000, 5000, 6000]\n",
    "def sil(data):\n",
    "    for d in data:\n",
    "        yield d-d*0.033\n",
    "\n",
    "print(list(sil(m)))"
   ]
  }
 ],
 "metadata": {
  "kernelspec": {
   "display_name": "Python 3",
   "language": "python",
   "name": "python3"
  },
  "language_info": {
   "codemirror_mode": {
    "name": "ipython",
    "version": 3
   },
   "file_extension": ".py",
   "mimetype": "text/x-python",
   "name": "python",
   "nbconvert_exporter": "python",
   "pygments_lexer": "ipython3",
   "version": "3.6.2"
  }
 },
 "nbformat": 4,
 "nbformat_minor": 2
}
