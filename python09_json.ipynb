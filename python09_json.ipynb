{
 "cells": [
  {
   "cell_type": "code",
   "execution_count": 1,
   "metadata": {},
   "outputs": [],
   "source": [
    "### JSON"
   ]
  },
  {
   "cell_type": "code",
   "execution_count": 2,
   "metadata": {},
   "outputs": [
    {
     "data": {
      "text/plain": [
       "[{'age': 30, 'name': '홍길동'}, {'age': 40, 'name': '이순신'}]"
      ]
     },
     "execution_count": 2,
     "metadata": {},
     "output_type": "execute_result"
    }
   ],
   "source": [
    "# my.json\n",
    "[{\"name\":\"홍길동\",\"age\":30},{\"name\":\"이순신\",\"age\":40}]\n"
   ]
  },
  {
   "cell_type": "code",
   "execution_count": 3,
   "metadata": {
    "scrolled": true
   },
   "outputs": [
    {
     "name": "stdout",
     "output_type": "stream",
     "text": [
      "[{\"name\":\"홍길동\",\"age\":30},{\"name\":\"이순신\",\"age\":40}]\n",
      " <class 'str'>\n",
      "[{'name': '홍길동', 'age': 30}, {'name': '이순신', 'age': 40}] <class 'list'>\n",
      "홍길동 30\n",
      "이순신 40\n"
     ]
    }
   ],
   "source": [
    "### read json from string\n",
    "\n",
    "import json\n",
    "\n",
    "fp = open(\"data/my.json\", encoding='utf-8')\n",
    "rd = fp.read()\n",
    "fp.close()\n",
    "print(rd, type(rd))\n",
    "\n",
    "mydata = json.loads(rd)\n",
    "print(mydata, type(mydata))\n",
    "for dt in mydata:\n",
    "    print(\"%(name)s %(age)s\"% dt)"
   ]
  },
  {
   "cell_type": "code",
   "execution_count": 4,
   "metadata": {
    "scrolled": true
   },
   "outputs": [
    {
     "name": "stdout",
     "output_type": "stream",
     "text": [
      "[{'name': '홍길동', 'age': 30}, {'name': '이순신', 'age': 40}] <class 'list'>\n",
      "홍길동 30\n",
      "이순신 40\n"
     ]
    }
   ],
   "source": [
    "### read json from file\n",
    "\n",
    "import json\n",
    "\n",
    "fp = open(\"data/my.json\", encoding='utf-8')\n",
    "mydata = json.load(fp, encoding='utf-8')\n",
    "fp.close()\n",
    "print(mydata, type(mydata))\n",
    "for dt in mydata:\n",
    "    print(\"%(name)s %(age)s\"% dt)"
   ]
  },
  {
   "cell_type": "code",
   "execution_count": 5,
   "metadata": {},
   "outputs": [
    {
     "name": "stdout",
     "output_type": "stream",
     "text": [
      "[{\"name\": \"홍길동\", \"age\": 30}, {\"name\": \"이순신\", \"age\": 40}] <class 'str'>\n"
     ]
    }
   ],
   "source": [
    "### write json\n",
    "\n",
    "import json\n",
    "\n",
    "data = [{'name': '홍길동', 'age': 30}, {'name': '이순신', 'age': 40}] \n",
    "dt = json.dumps(data, ensure_ascii=False)\n",
    "print(dt, type(dt))\n",
    "fp = open(\"data/my1.json\", 'w', encoding='utf-8')\n",
    "fp.write(dt)\n",
    "fp.close()"
   ]
  },
  {
   "cell_type": "code",
   "execution_count": 6,
   "metadata": {},
   "outputs": [
    {
     "name": "stdout",
     "output_type": "stream",
     "text": [
      "{'firstName': 'John', 'lastName': 'Smith', 'isAlive': True, 'age': 25, 'address': {'streetAddress': '21 2nd Street', 'city': 'New York', 'state': 'NY', 'postalCode': '10021-3100'}, 'phoneNumbers': [{'type': 'home', 'number': '212 555-1234'}, {'type': 'office', 'number': '646 555-4567'}, {'type': 'mobile', 'number': '123 456-7890'}], 'children': [], 'spouse': None} <class 'dict'>\n",
      "firstName : John\n",
      "lastName : Smith\n",
      "isAlive : True\n",
      "age : 25\n",
      "address : {'streetAddress': '21 2nd Street', 'city': 'New York', 'state': 'NY', 'postalCode': '10021-3100'}\n",
      "phoneNumbers : [{'type': 'home', 'number': '212 555-1234'}, {'type': 'office', 'number': '646 555-4567'}, {'type': 'mobile', 'number': '123 456-7890'}]\n",
      "children : []\n",
      "spouse : None\n"
     ]
    }
   ],
   "source": [
    "### test\n",
    "\n",
    "import json\n",
    "\n",
    "fp = open(\"data/test.json\", encoding='utf-8')\n",
    "mydata = json.load(fp, encoding='utf-8')\n",
    "fp.close()\n",
    "print(mydata, type(mydata))\n",
    "for dt in mydata:\n",
    "    print(dt, \":\", mydata[dt])"
   ]
  }
 ],
 "metadata": {
  "kernelspec": {
   "display_name": "Python 3",
   "language": "python",
   "name": "python3"
  },
  "language_info": {
   "codemirror_mode": {
    "name": "ipython",
    "version": 3
   },
   "file_extension": ".py",
   "mimetype": "text/x-python",
   "name": "python",
   "nbconvert_exporter": "python",
   "pygments_lexer": "ipython3",
   "version": "3.6.2"
  }
 },
 "nbformat": 4,
 "nbformat_minor": 2
}
