{
 "cells": [
  {
   "cell_type": "code",
   "execution_count": 2,
   "metadata": {},
   "outputs": [],
   "source": [
    "### 모듈, 패키지"
   ]
  },
  {
   "cell_type": "code",
   "execution_count": 3,
   "metadata": {},
   "outputs": [
    {
     "name": "stdout",
     "output_type": "stream",
     "text": [
      "['', 'c:\\\\users\\\\user\\\\appdata\\\\local\\\\programs\\\\python\\\\python36\\\\python36.zip', 'c:\\\\users\\\\user\\\\appdata\\\\local\\\\programs\\\\python\\\\python36\\\\DLLs', 'c:\\\\users\\\\user\\\\appdata\\\\local\\\\programs\\\\python\\\\python36\\\\lib', 'c:\\\\users\\\\user\\\\appdata\\\\local\\\\programs\\\\python\\\\python36', 'c:\\\\users\\\\user\\\\appdata\\\\local\\\\programs\\\\python\\\\python36\\\\lib\\\\site-packages', 'c:\\\\users\\\\user\\\\appdata\\\\local\\\\programs\\\\python\\\\python36\\\\lib\\\\site-packages\\\\IPython\\\\extensions', 'C:\\\\Users\\\\user\\\\.ipython']\n"
     ]
    }
   ],
   "source": [
    "# compile 방법\n",
    "# python -m py_compile a.py\n",
    "# import 가능한 모듈은 python path 경로의 py 파일들\n",
    "import sys\n",
    "print(sys.path)"
   ]
  },
  {
   "cell_type": "code",
   "execution_count": null,
   "metadata": {},
   "outputs": [],
   "source": [
    "# mymodule.py\n",
    "\n",
    "def hap(a,b):\n",
    "    return a+b\n",
    "\n",
    "def gop(a,b):\n",
    "    return a*b\n"
   ]
  },
  {
   "cell_type": "code",
   "execution_count": null,
   "metadata": {},
   "outputs": [],
   "source": [
    "# usemodule.py\n",
    "\n",
    "import mymodule\n",
    "\n",
    "rst = mymodule.gop(10,20)\n",
    "print(rst)\n",
    "rst = mymodule.hap(10,20)\n",
    "print(rst)\n"
   ]
  },
  {
   "cell_type": "code",
   "execution_count": 5,
   "metadata": {},
   "outputs": [
    {
     "name": "stdout",
     "output_type": "stream",
     "text": [
      "['', 'c:\\\\users\\\\user\\\\appdata\\\\local\\\\programs\\\\python\\\\python36\\\\python36.zip', 'c:\\\\users\\\\user\\\\appdata\\\\local\\\\programs\\\\python\\\\python36\\\\DLLs', 'c:\\\\users\\\\user\\\\appdata\\\\local\\\\programs\\\\python\\\\python36\\\\lib', 'c:\\\\users\\\\user\\\\appdata\\\\local\\\\programs\\\\python\\\\python36', 'c:\\\\users\\\\user\\\\appdata\\\\local\\\\programs\\\\python\\\\python36\\\\lib\\\\site-packages', 'c:\\\\users\\\\user\\\\appdata\\\\local\\\\programs\\\\python\\\\python36\\\\lib\\\\site-packages\\\\IPython\\\\extensions', 'C:\\\\Users\\\\user\\\\.ipython', 'D:\\\\py\\\\pythonTest\\\\mypath']\n",
      "['', 'c:\\\\users\\\\user\\\\appdata\\\\local\\\\programs\\\\python\\\\python36\\\\python36.zip', 'c:\\\\users\\\\user\\\\appdata\\\\local\\\\programs\\\\python\\\\python36\\\\DLLs', 'c:\\\\users\\\\user\\\\appdata\\\\local\\\\programs\\\\python\\\\python36\\\\lib', 'c:\\\\users\\\\user\\\\appdata\\\\local\\\\programs\\\\python\\\\python36', 'c:\\\\users\\\\user\\\\appdata\\\\local\\\\programs\\\\python\\\\python36\\\\lib\\\\site-packages', 'c:\\\\users\\\\user\\\\appdata\\\\local\\\\programs\\\\python\\\\python36\\\\lib\\\\site-packages\\\\IPython\\\\extensions', 'C:\\\\Users\\\\user\\\\.ipython', 'D:\\\\py\\\\pythonTest\\\\mypath', 'D:\\\\py\\\\pythonTest\\\\mypath']\n",
      "200\n",
      "30\n"
     ]
    }
   ],
   "source": [
    "### python path 추가\n",
    "\n",
    "import sys\n",
    "print(sys.path)\n",
    "sys.path.append(r\"D:\\py\\pythonTest\\mypath\")\n",
    "print(sys.path)\n",
    "import mymodule\n",
    "\n",
    "rst = mymodule.gop(10,20)\n",
    "print(rst)\n",
    "rst = mymodule.hap(10,20)\n",
    "print(rst)\n"
   ]
  },
  {
   "cell_type": "code",
   "execution_count": null,
   "metadata": {},
   "outputs": [],
   "source": [
    "### 환경변수에 python path를 추가하는 방법\n",
    "\n",
    "# unix 계열\n",
    "# export PYTHONPATH=$PYTHONPATH:/home/egoing/python/lib\n",
    "\n",
    "# 윈도우계열\n",
    "# set PYTHONPATH=%PYTHONPATH%;C:\\Python27\\userlib\n",
    "# setx PYTHONPATH %PYTHONPATH%;C:\\Python27\\userlib"
   ]
  },
  {
   "cell_type": "code",
   "execution_count": 11,
   "metadata": {
    "scrolled": true
   },
   "outputs": [
    {
     "name": "stdout",
     "output_type": "stream",
     "text": [
      "30\n",
      "200\n",
      "30\n",
      "200\n"
     ]
    }
   ],
   "source": [
    "# from ~ import ~\n",
    "\n",
    "import sys\n",
    "sys.path.append(r\"D:\\py\\pythonTest\")\n",
    "\n",
    "# from mymodule import hap, gop\n",
    "from mymodule import *\n",
    "\n",
    "print(hap(10,20))\n",
    "print(gop(10,20))\n",
    "\n",
    "import mymodule as m\n",
    "print(m.hap(10,20))\n",
    "print(m.gop(10,20))\n"
   ]
  },
  {
   "cell_type": "code",
   "execution_count": 14,
   "metadata": {},
   "outputs": [
    {
     "name": "stdout",
     "output_type": "stream",
     "text": [
      "__name__ __main__ <class 'str'>\n",
      "<class 'str'>\n"
     ]
    }
   ],
   "source": [
    "### module name\n",
    "\n",
    "print('__name__', __name__, type(__name__))\n"
   ]
  },
  {
   "cell_type": "code",
   "execution_count": 15,
   "metadata": {},
   "outputs": [
    {
     "name": "stdout",
     "output_type": "stream",
     "text": [
      "lg init...\n",
      "com init...\n",
      "com11...\n",
      "ui init...\n",
      "com11 fn call\n",
      "ui11 fn call\n"
     ]
    }
   ],
   "source": [
    "### package\n",
    "\n",
    "# lg\n",
    "# |   __init__.py\n",
    "# |\n",
    "# +---com\n",
    "# |       com11.py\n",
    "# |       com22.py\n",
    "# |       __init__.py\n",
    "# |\n",
    "# \\---ui\n",
    "#         ui11.py\n",
    "#         ui22.py\n",
    "#         __init__.py\n",
    "\n",
    "import sys\n",
    "sys.path.append(r\"D:\\py\\pythonTest\")\n",
    "\n",
    "import lg.com.com11\n",
    "import lg.ui.ui11\n",
    "\n",
    "lg.com.com11.com11fn()\n",
    "lg.ui.ui11.ui11fn()\n",
    "\n"
   ]
  },
  {
   "cell_type": "code",
   "execution_count": 22,
   "metadata": {},
   "outputs": [
    {
     "name": "stdout",
     "output_type": "stream",
     "text": [
      "com11 fn call\n",
      "com11 fn call\n",
      "com22...\n",
      "com22 fn call\n"
     ]
    }
   ],
   "source": [
    "### package 축약\n",
    "\n",
    "\n",
    "import sys\n",
    "sys.path.append(r\"D:\\py\\pythonTest\")\n",
    "\n",
    "import lg.com.com11 as COM11\n",
    "\n",
    "COM11.com11fn()\n",
    "\n",
    "from lg.com.com11 import com11fn\n",
    "com11fn()\n",
    "\n",
    "from lg.com.com22 import com22fn\n",
    "com22fn();\n",
    "\n",
    "from lg.com import com11.com11fn, com22.com22.fn\n"
   ]
  },
  {
   "cell_type": "code",
   "execution_count": 23,
   "metadata": {},
   "outputs": [
    {
     "name": "stdout",
     "output_type": "stream",
     "text": [
      "com11 fn call\n",
      "com22 fn call\n"
     ]
    }
   ],
   "source": [
    "### package 전체 import\n",
    "\n",
    "# lg/com/__init__.py에서 __all__을 define해야함\n",
    "__all__ = ['com11', 'com22']\n",
    "\n",
    "# usepack.py\n",
    "from lg.com import *\n",
    "com11.com11fn()\n",
    "com22.com22fn()\n"
   ]
  }
 ],
 "metadata": {
  "kernelspec": {
   "display_name": "Python 3",
   "language": "python",
   "name": "python3"
  },
  "language_info": {
   "codemirror_mode": {
    "name": "ipython",
    "version": 3
   },
   "file_extension": ".py",
   "mimetype": "text/x-python",
   "name": "python",
   "nbconvert_exporter": "python",
   "pygments_lexer": "ipython3",
   "version": "3.6.2"
  }
 },
 "nbformat": 4,
 "nbformat_minor": 2
}
