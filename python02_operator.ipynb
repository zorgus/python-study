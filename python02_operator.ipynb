{
 "cells": [
  {
   "cell_type": "code",
   "execution_count": 13,
   "metadata": {},
   "outputs": [
    {
     "name": "stdout",
     "output_type": "stream",
     "text": [
      "9\n",
      "2.5\n",
      "2\n",
      "2\n",
      "2\n",
      "1\n",
      "-1\n"
     ]
    }
   ],
   "source": [
    "### 연산자\n",
    "\n",
    "a = 3**2\n",
    "print(a)\n",
    "\n",
    "a = 10 / 4\n",
    "print(a)\n",
    "\n",
    "a = 10 // 4\n",
    "print(a)\n",
    "\n",
    "a = 10 % 4\n",
    "print(a)\n",
    "\n",
    "a = 1\n",
    "#a++  # not supported\n",
    "a += 1\n",
    "print(a)\n",
    "\n",
    "a = 1\n",
    "++a   # +(+a)\n",
    "print(a)\n",
    "a = -+a   # -(+a)\n",
    "print(a)"
   ]
  },
  {
   "cell_type": "code",
   "execution_count": 17,
   "metadata": {},
   "outputs": [
    {
     "name": "stdout",
     "output_type": "stream",
     "text": [
      "입력: 23\n",
      "23 <class 'str'>\n",
      "23 <class 'int'>\n"
     ]
    }
   ],
   "source": [
    "### input, str->int\n",
    "\n",
    "a = input(\"입력: \")\n",
    "print(a, type(a))\n",
    "\n",
    "a = int(a)\n",
    "print(a, type(a))"
   ]
  },
  {
   "cell_type": "code",
   "execution_count": 21,
   "metadata": {},
   "outputs": [
    {
     "name": "stdout",
     "output_type": "stream",
     "text": [
      "반지름: 3\n",
      "원의 면적: 28.26\n"
     ]
    }
   ],
   "source": [
    "### 반지름을 입력받아 원의 면적\n",
    "\n",
    "PI=3.14\n",
    "r = int(input(\"반지름: \"))\n",
    "o = PI*r**2\n",
    "print(\"원의 면적:\", o)\n"
   ]
  },
  {
   "cell_type": "code",
   "execution_count": 31,
   "metadata": {},
   "outputs": [
    {
     "name": "stdout",
     "output_type": "stream",
     "text": [
      "True\n",
      "True\n",
      "False\n",
      "True\n",
      "False\n"
     ]
    }
   ],
   "source": [
    "### 산술연산자\n",
    "\n",
    "a = 5\n",
    "b = 5 <= a < 10\n",
    "print(b)\n",
    "\n",
    "b = True and True\n",
    "print(b)\n",
    "b = 10>0 and 10==9\n",
    "print(b)\n",
    "b = 10>0 or 10==9\n",
    "print(b)\n",
    "b = not 10>0\n",
    "print(b)"
   ]
  },
  {
   "cell_type": "code",
   "execution_count": 45,
   "metadata": {},
   "outputs": [
    {
     "name": "stdout",
     "output_type": "stream",
     "text": [
      "1389742032 1389742032\n",
      "True\n",
      "1389742032 1389744912\n",
      "False\n",
      "True\n",
      "1817189815368 1817189815368\n",
      "True\n",
      "[100, 20, 30]\n",
      "2\n",
      "1817190695240 1817190668552\n",
      "False\n",
      "[10, 20, 30]\n"
     ]
    }
   ],
   "source": [
    "# object address, reference count\n",
    "\n",
    "a = 10\n",
    "b = 10\n",
    "print(id(a), id(b))\n",
    "print(a is b)\n",
    "\n",
    "a = 10\n",
    "b = 100\n",
    "print(id(a), id(b))\n",
    "\n",
    "print(a is b)\n",
    "print(a is not b)\n",
    "\n",
    "i = 'abc'\n",
    "i = 1000           # 'abc'에 대한 RC(reference count)가 0가 됨\n",
    "\n",
    "a = [10,20,30]\n",
    "b = a              # shallow copy(주소만 복사)\n",
    "print(id(a), id(b))\n",
    "print(b is a)\n",
    "a[0] = 100\n",
    "print(b)\n",
    "\n",
    "import sys\n",
    "print(sys.getrefcount(a)-1)\n",
    "\n",
    "a = [10,20,30]\n",
    "b = a.copy()        # deep copy\n",
    "print(id(a), id(b))\n",
    "print(a is b)\n",
    "a[0] = 100\n",
    "print(b)"
   ]
  },
  {
   "cell_type": "code",
   "execution_count": 52,
   "metadata": {},
   "outputs": [
    {
     "name": "stdout",
     "output_type": "stream",
     "text": [
      "100\n",
      "100\n",
      "100\n"
     ]
    }
   ],
   "source": [
    "### 3항연산자 대체\n",
    "\n",
    "a = 10\n",
    "rst = 100 if a>0 else 200\n",
    "print(rst)\n",
    "\n",
    "rst = (200, 100)[a>0]\n",
    "print(rst)\n",
    "\n",
    "rst = {False:200, True:100}[a>0]\n",
    "print(rst)\n"
   ]
  },
  {
   "cell_type": "code",
   "execution_count": 65,
   "metadata": {},
   "outputs": [
    {
     "name": "stdout",
     "output_type": "stream",
     "text": [
      "a: 1\n",
      "b: 2\n",
      "sum: 3\n"
     ]
    }
   ],
   "source": [
    "### 두개의 정수를 입력받아 절대값의 합을 구하시오\n",
    "\n",
    "a = int(input(\"a: \"))\n",
    "b = int(input(\"b: \"))\n",
    "\n",
    "a = a if a>0 else -a\n",
    "#b = (b, -b)[b<0]\n",
    "b = {False:b, True:-b}[b<0]\n",
    "print(\"sum:\", a + b)"
   ]
  },
  {
   "cell_type": "code",
   "execution_count": 66,
   "metadata": {},
   "outputs": [
    {
     "name": "stdout",
     "output_type": "stream",
     "text": [
      "input: 10 -20\n",
      "sum: 30\n"
     ]
    }
   ],
   "source": [
    "### 두개의 정수를 입력받아 절대값의 합을 구하시오\n",
    "\n",
    "s = input(\"input: \")\n",
    "s = s.split()\n",
    "n1 = int(s[0])\n",
    "n2 = int(s[1])\n",
    "n1 = n1 if n1>0 else -n1\n",
    "n2 = {False:n2, True:-n2}[n2<0]\n",
    "print(\"sum:\", n1 + n2)"
   ]
  }
 ],
 "metadata": {
  "kernelspec": {
   "display_name": "Python 3",
   "language": "python",
   "name": "python3"
  },
  "language_info": {
   "codemirror_mode": {
    "name": "ipython",
    "version": 3
   },
   "file_extension": ".py",
   "mimetype": "text/x-python",
   "name": "python",
   "nbconvert_exporter": "python",
   "pygments_lexer": "ipython3",
   "version": "3.6.2"
  }
 },
 "nbformat": 4,
 "nbformat_minor": 2
}
