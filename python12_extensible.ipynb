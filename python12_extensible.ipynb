{
 "cells": [
  {
   "cell_type": "code",
   "execution_count": 1,
   "metadata": {},
   "outputs": [],
   "source": [
    "### use pyd\n"
   ]
  },
  {
   "cell_type": "code",
   "execution_count": 2,
   "metadata": {},
   "outputs": [],
   "source": [
    "#### extest.c\n",
    "## module file 이름, PyInit_XXXX의 string, PyModuleDef의 모듈이름부분이 모두 같아야 함\n",
    "# include 추가\n",
    "#   C:\\Users\\user\\AppData\\Local\\Programs\\Python\\Python36-32\\include;\n",
    "# lib path 추가\n",
    "#   C:\\Users\\user\\AppData\\Local\\Programs\\Python\\Python36-32\\libs\n",
    "# include path에 inttype.h 추가\n",
    "\n",
    "# #include \"python.h\" \n",
    "\n",
    "# struct Test {\n",
    "# \tint a;\n",
    "# \tint b;\n",
    "# \tchar* s;\n",
    "# };\n",
    "\n",
    "# static PyObject * \n",
    "# extest_strlen(PyObject *self, PyObject *args)\n",
    "# {\n",
    "#     const char* str=NULL;\n",
    "#     int len; \n",
    "#     if (!PyArg_ParseTuple(args, \"s\", &str)) // 매개변수 값을 분석하고 지역변수에 할당 시킵니다.\n",
    "#          return NULL; \n",
    "#     len = strlen(str); \n",
    "#     return Py_BuildValue(\"i\", len);  //python type conversion..\n",
    "# }\n",
    "# static PyObject * \n",
    "# extest_hap(PyObject *self, PyObject *args)\n",
    "# {\n",
    "#     int a;\n",
    "# \tint b;\n",
    "# \tint sum;\n",
    "#     if (!PyArg_ParseTuple(args, \"ii\", &a, &b)) // 매개변수 값을 분석하고 지역변수에 할당 시킵니다.\n",
    "#          return NULL; \n",
    "#     sum = a + b;\n",
    "#     return Py_BuildValue(\"i\", sum);  //python type conversion..\n",
    "# }\n",
    "# static PyObject * \n",
    "# extest_circle(PyObject *self, PyObject *args)\n",
    "# {\n",
    "#     int r;\n",
    "# \tdouble circle;\n",
    "\n",
    "#     if (!PyArg_ParseTuple(args, \"i\", &r)) // 매개변수 값을 분석하고 지역변수에 할당 시킵니다.\n",
    "#          return NULL; \n",
    "#     circle = r*r*3.14;\n",
    "#     return Py_BuildValue(\"d\", circle);  //python type conversion..\n",
    "# }\n",
    "# static PyObject * \n",
    "# extest_tolist(PyObject *self, PyObject *args)\n",
    "# {\n",
    "#     int a;\n",
    "# \tint b;\n",
    "\n",
    "#     if (!PyArg_ParseTuple(args, \"ii\", &a, &b)) // 매개변수 값을 분석하고 지역변수에 할당 시킵니다.\n",
    "#          return NULL; \n",
    "#     return Py_BuildValue(\"[i,i]\", a, b);  //python type conversion..\n",
    "# }\n",
    "# static PyObject * \n",
    "# extest_sfn(PyObject *self, PyObject *args)\n",
    "# {\n",
    "# \tstruct Test *p;\n",
    "\n",
    "#     if (!PyArg_ParseTuple(args, \"l\", &p))\n",
    "#          return NULL; \n",
    "# \tprintf(\"a=%d b=%d s=%s\\n\", p->a, p->b, p->s);\n",
    "# \tp->a = 100;\n",
    "# \tp->b = 200;\n",
    "#     return Py_BuildValue(\"[i,i]\", p->a, p->b);  //python type conversion..\n",
    "# }\n",
    "\n",
    "# static PyMethodDef extestMethods[] = {\n",
    "# {\"strlen\", extest_strlen, METH_VARARGS,\n",
    "#  \"count a string length.\"},\n",
    "# {\"hap\", extest_hap, METH_VARARGS,\n",
    "#  \"calculate sum.\"},\n",
    "# {\"circle\", extest_circle, METH_VARARGS,\n",
    "#  \"calculate circle.\"},\n",
    "# {\"tolist\", extest_tolist, METH_VARARGS,\n",
    "#  \"convert to list.\"},\n",
    "# {\"sfn\", extest_sfn, METH_VARARGS,\n",
    "#  \"get struct param.\"},\n",
    "#  {NULL, NULL, 0, NULL} // 배열의 끝을 나타냅니다.\n",
    "# }; \n",
    "\n",
    "# static struct PyModuleDef extestmodule = {\n",
    "#     PyModuleDef_HEAD_INIT,\n",
    "#     \"extest\",            // 모듈 이름\n",
    "#     \"It is test module.\", // 모듈 설명을 적는 부분, 모듈의 __doc__에 저장됩니다.\n",
    "#     -1,extestMethods\n",
    "# };\n",
    "\n",
    "# PyMODINIT_FUNC\n",
    "# PyInit_extest(void)\n",
    "# {\n",
    "#     return PyModule_Create(&extestmodule);\n",
    "# }\n",
    "\n"
   ]
  },
  {
   "cell_type": "code",
   "execution_count": 1,
   "metadata": {},
   "outputs": [],
   "source": [
    "import extest\n"
   ]
  },
  {
   "cell_type": "code",
   "execution_count": 4,
   "metadata": {
    "scrolled": true
   },
   "outputs": [
    {
     "name": "stdout",
     "output_type": "stream",
     "text": [
      "6\n"
     ]
    }
   ],
   "source": [
    "import extest\n",
    "n = extest.strlen('abcdef')\n",
    "print(n)"
   ]
  },
  {
   "cell_type": "code",
   "execution_count": 5,
   "metadata": {},
   "outputs": [
    {
     "name": "stdout",
     "output_type": "stream",
     "text": [
      "40\n"
     ]
    }
   ],
   "source": [
    "import extest\n",
    "n = extest.hap(10,30)\n",
    "print(n)\n"
   ]
  },
  {
   "cell_type": "code",
   "execution_count": 6,
   "metadata": {},
   "outputs": [
    {
     "name": "stdout",
     "output_type": "stream",
     "text": [
      "12.56\n",
      "12.56\n"
     ]
    }
   ],
   "source": [
    "### 원의 넓이\n",
    "import extest\n",
    "\n",
    "n = extest.circle(2)\n",
    "print(n)\n",
    "print(2**2*3.14)"
   ]
  },
  {
   "cell_type": "code",
   "execution_count": 7,
   "metadata": {},
   "outputs": [
    {
     "name": "stdout",
     "output_type": "stream",
     "text": [
      "[10, 20]\n"
     ]
    }
   ],
   "source": [
    "### 리스트 받기\n",
    "import extest\n",
    "\n",
    "print(extest.tolist(10,20))"
   ]
  },
  {
   "cell_type": "code",
   "execution_count": 2,
   "metadata": {},
   "outputs": [
    {
     "name": "stdout",
     "output_type": "stream",
     "text": [
      "10 20 b'abc'\n",
      "[100, 200]\n"
     ]
    }
   ],
   "source": [
    "### 구조체 넘기기\n",
    "\n",
    "import extest\n",
    "from ctypes import *\n",
    "\n",
    "class Test(Structure):\n",
    "    _fields_ = [(\"a\", c_int), (\"b\", c_int), (\"s\", c_char_p)]\n",
    "\n",
    "obj = Test(10, 20, b\"abc\")\n",
    "print(obj.a, obj.b, obj.s)\n",
    "\n",
    "rst = extest.sfn(addressof(obj))\n",
    "print(rst)"
   ]
  }
 ],
 "metadata": {
  "kernelspec": {
   "display_name": "Python 3",
   "language": "python",
   "name": "python3"
  },
  "language_info": {
   "codemirror_mode": {
    "name": "ipython",
    "version": 3
   },
   "file_extension": ".py",
   "mimetype": "text/x-python",
   "name": "python",
   "nbconvert_exporter": "python",
   "pygments_lexer": "ipython3",
   "version": "3.6.3"
  }
 },
 "nbformat": 4,
 "nbformat_minor": 2
}
